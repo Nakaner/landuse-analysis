{
 "cells": [
  {
   "cell_type": "code",
   "execution_count": null,
   "id": "3ec2ae2f-19cf-4978-96a2-22280162a45e",
   "metadata": {},
   "outputs": [],
   "source": [
    "import psycopg2"
   ]
  },
  {
   "cell_type": "code",
   "execution_count": null,
   "id": "112f0fdb-d871-43e2-a28a-a259ccdf7da2",
   "metadata": {},
   "outputs": [],
   "source": [
    "import psycopg2.extensions"
   ]
  },
  {
   "cell_type": "code",
   "execution_count": null,
   "id": "2bc373ad-81bc-4f28-b48e-b1d809b03a35",
   "metadata": {},
   "outputs": [],
   "source": [
    "dsn = \"postgresql://michael:@/landuse?host=/run/postgresql\""
   ]
  },
  {
   "cell_type": "code",
   "execution_count": null,
   "id": "0060b9a8-e4c8-49a2-9871-5f4b4e6ad4fc",
   "metadata": {},
   "outputs": [],
   "source": [
    "conn = psycopg2.connect(**psycopg2.extensions.parse_dsn(dsn))"
   ]
  },
  {
   "cell_type": "code",
   "execution_count": null,
   "id": "8051a2af-6283-479c-b2e4-5b3efd1021ad",
   "metadata": {},
   "outputs": [],
   "source": [
    "def send_sql(connection, query, **kwargs):\n",
    "    import time\n",
    "    args = kwargs.get(\"args\")\n",
    "    quiet = kwargs.get(\"quiet\", False)\n",
    "    return_result = kwargs.get(\"return_result\", False)\n",
    "    start = time.time()\n",
    "    cursor = connection.cursor()\n",
    "    result = None\n",
    "    rowcount = -1\n",
    "    try:\n",
    "        cursor.execute(query, args)\n",
    "        rowcount = cursor.rowcount\n",
    "        if return_result:\n",
    "            result = cursor.fetchall()\n",
    "        connection.commit()\n",
    "    except Exception as ex:\n",
    "        print(\"Failed to execute SQL statement:\\n{}\\nReason: {}\".format(cursor.query, ex))\n",
    "        connection.rollback()\n",
    "    finally:\n",
    "        cursor.close()\n",
    "        msg = \"Executed SQL command in {:0.3f} seconds.\".format(time.time() - start)\n",
    "        if rowcount >= 0:\n",
    "            msg = \"{}, affected {} rows.\".format(msg[:-1], rowcount)\n",
    "        print(msg)\n",
    "    return result"
   ]
  },
  {
   "cell_type": "markdown",
   "id": "4fd288f8-a6ff-470b-80d1-09ffc0408d72",
   "metadata": {},
   "source": [
    "## Municipalities as polygons\n",
    "\n",
    "First, we have to get the polygon of Germany"
   ]
  },
  {
   "cell_type": "code",
   "execution_count": null,
   "id": "86af6ad7-c5d4-4ce2-871b-f4f030db9998",
   "metadata": {},
   "outputs": [],
   "source": [
    "sql = \"SELECT geom FROM admin_boundaries WHERE admin_level = 4 AND name = 'Baden-Württemberg';\"\n",
    "germany_wkb = send_sql(conn, sql, return_result=True)[0]\n",
    "#c.execute(sql)\n",
    "#germany_wkb = c.fetchone()[0]"
   ]
  },
  {
   "cell_type": "markdown",
   "id": "beb9f588-cef3-4b45-a76b-04b42660c93f",
   "metadata": {},
   "source": [
    "Create a database table of municipalities"
   ]
  },
  {
   "cell_type": "code",
   "execution_count": null,
   "id": "3d0ce0a9-3afd-4771-bafb-e702b7471c8a",
   "metadata": {},
   "outputs": [],
   "source": [
    "send_sql(conn, \"DROP TABLE IF EXISTS cities;\")"
   ]
  },
  {
   "cell_type": "code",
   "execution_count": null,
   "id": "eddd6c95-bdab-43d6-b367-8a0d1a6c1534",
   "metadata": {},
   "outputs": [],
   "source": [
    "send_sql(conn, \"\"\"SELECT\n",
    "    area_id, admin_level, name, tags, geom\n",
    "  INTO cities\n",
    "  FROM admin_boundaries\n",
    "  WHERE admin_level = 8 AND ST_Intersects(geom, %s);\n",
    "  CREATE INDEX ON cities USING gist(geom);\n",
    "\"\"\", args=(germany_wkb,))\n",
    "send_sql(conn, \"ALTER TABLE cities ADD CONSTRAINT cities_area_id_unique UNIQUE(area_id);\")"
   ]
  },
  {
   "cell_type": "markdown",
   "id": "d23c4f52-a282-4913-bc9e-b8b4d6ef5949",
   "metadata": {},
   "source": [
    "Add \"kreisfreie Städte\" (AL 6 polygons with no AL 8 inside them):"
   ]
  },
  {
   "cell_type": "code",
   "execution_count": null,
   "id": "55f04937-3754-4a03-a8c0-a8e4cf1daea0",
   "metadata": {},
   "outputs": [],
   "source": [
    "sql = \"\"\"INSERT INTO cities (area_id, admin_level, name, tags, geom)\n",
    "  SELECT\n",
    "      area_id,\n",
    "      admin_level,\n",
    "      name,\n",
    "      tags,\n",
    "      geom\n",
    "    FROM admin_boundaries AS a\n",
    "    WHERE\n",
    "      admin_level = %s\n",
    "      AND (SELECT c.geom FROM cities AS c WHERE ST_Contains(a.geom, c.geom) LIMIT 1) IS NULL;\"\"\"\n",
    "for level in [6, 4]:\n",
    "    send_sql(conn, sql, args=(level,))"
   ]
  },
  {
   "cell_type": "markdown",
   "id": "00aa8119-2921-415d-97c9-31c39fc04cd1",
   "metadata": {},
   "source": [
    "Create index on name and area_id for later use."
   ]
  },
  {
   "cell_type": "code",
   "execution_count": null,
   "id": "409011f6-4bb3-4537-8a13-db671d99c638",
   "metadata": {},
   "outputs": [],
   "source": [
    "send_sql(conn, \"CREATE INDEX IF NOT EXISTS cities_area_id_name_idx ON cities USING btree(area_id, name);\")"
   ]
  },
  {
   "cell_type": "markdown",
   "id": "d34958b4-f823-4b73-9d52-5fddf0812f20",
   "metadata": {},
   "source": [
    "## Generic stats about landuses (sizes, node count)\n",
    "\n",
    "Get boundary lines of landuse polygons (as (multi)linestrings) and the area size."
   ]
  },
  {
   "cell_type": "code",
   "execution_count": null,
   "id": "766f18a0-2934-4d8c-84f2-f5602db9a389",
   "metadata": {},
   "outputs": [],
   "source": [
    "send_sql(conn, \"DROP TABLE IF EXISTS landuse_boundary_lines;\")\n",
    "sql = \"\"\"CREATE TABLE landuse_boundary_lines AS\n",
    "SELECT\n",
    "    ST_Boundary(geom) AS geom,\n",
    "    area_id,\n",
    "    ST_Area(geom::geography) AS area_size,\n",
    "    COALESCE(landuse, \"natural\", waterway, water) AS feature,\n",
    "    tags\n",
    "  FROM land;\n",
    "\"\"\"\n",
    "send_sql(conn, sql)"
   ]
  },
  {
   "cell_type": "markdown",
   "id": "6b9569e4-205e-461c-be70-0a943a148bc0",
   "metadata": {},
   "source": [
    "Find polygons with long boundary but small area size:"
   ]
  },
  {
   "cell_type": "code",
   "execution_count": null,
   "id": "19c9ee08-5e8b-43c0-83b6-6550d2cfb020",
   "metadata": {},
   "outputs": [],
   "source": [
    "sql = '''SELECT\n",
    "    area_id,\n",
    "    feature,\n",
    "    size_length_ratio,\n",
    "    node_count,\n",
    "    area_size\n",
    "  FROM (\n",
    "    SELECT\n",
    "        area_id,\n",
    "        feature,\n",
    "        (sqrt(area_size)/ST_Length(geom)) AS size_length_ratio,\n",
    "        area_size\n",
    "      FROM landuse_boundary_lines\n",
    "  ) AS a\n",
    "  ORDER BY size_length_ratio ASC NULLS LAST;\n",
    "'''"
   ]
  },
  {
   "cell_type": "markdown",
   "id": "1fd622da-9ff2-4f33-ad78-39aef1aef973",
   "metadata": {},
   "source": [
    "**TODO**\n",
    "\n",
    "* determine node count per area and per boundary length, its distribution and differences between municipalities\n",
    "* clip landuse boundaries to municipal polygons\n",
    "* determine ratio of sqrt(area size) to boundary length, its distribution and differences between municipalities"
   ]
  },
  {
   "cell_type": "markdown",
   "id": "5fe45d8a-3392-46c2-80a6-aaef43042408",
   "metadata": {},
   "source": [
    "## Road segments which are used by landuse polygons\n",
    "\n",
    "Find landuse polygons sharing their boundary with roads."
   ]
  },
  {
   "cell_type": "code",
   "execution_count": null,
   "id": "76d16482-fdd1-45bf-849e-9795d5c6d425",
   "metadata": {},
   "outputs": [],
   "source": [
    "sql = '''\n",
    "DROP TABLE IF EXISTS landuse_boundaries_on_roads;\n",
    "SELECT\n",
    "    ST_CollectionExtract(ST_Intersection(ST_Boundary(l.geom), r.geom), 2) AS geom,\n",
    "    COALESCE(l.landuse, l.\"natural\", l.water, l.waterway) AS land_feature,\n",
    "    l.area_id AS land_id,\n",
    "    COALESCE(r.highway, r.railway) AS road_feature,\n",
    "    r.way_id AS road_id\n",
    "  INTO landuse_boundaries_on_roads\n",
    "  FROM land AS l\n",
    "  JOIN streets AS r ON l.geom && r.geom AND ST_Intersects(l.geom, r.geom) AND ST_Relate(l.geom, r.geom, '***1*****');\n",
    "'''\n",
    "send_sql(conn, sql)"
   ]
  },
  {
   "cell_type": "markdown",
   "id": "5e2237c4-7e52-454c-8b07-55fd30be578a",
   "metadata": {},
   "source": [
    "The table `landuse_boundaries_on_roads` contains duplicates if a road segment belongs to two landuse polygons. They are de-duplicated now:"
   ]
  },
  {
   "cell_type": "code",
   "execution_count": null,
   "id": "5add0e08-11a6-4f47-8402-90e4e3605ade",
   "metadata": {},
   "outputs": [],
   "source": [
    "sql = '''\n",
    "DROP TABLE IF EXISTS roads_as_landuse_boundaries;\n",
    "CREATE INDEX IF NOT EXISTS landuse_boundaries_on_roads_road_id_feature ON landuse_boundaries_on_roads USING btree(road_id, road_feature);\n",
    "SELECT\n",
    "    ST_CollectionExtract(ST_Union(ST_ClusterIntersecting(geom)), 2) AS geom,\n",
    "    road_feature,\n",
    "    road_id\n",
    "  INTO roads_as_landuse_boundaries\n",
    "  FROM landuse_boundaries_on_roads\n",
    "  GROUP BY road_id, road_feature;\n",
    "'''\n",
    "send_sql(conn, sql)"
   ]
  },
  {
   "cell_type": "markdown",
   "id": "2e09038a-9b75-4879-be04-d90fb43dcbb8",
   "metadata": {},
   "source": [
    "Get a geometry collection of the roads of each municipality.\n",
    "\n",
    "Performance notes:\n",
    "\n",
    "* In the `SELECT` part, `ST_Within` is faster than using `ST_CoveredBy` or `ST_Relate` (saves 25%).\n",
    "* In the `JOIN` condition, not using `ST_Relate(rl.geom, c.geom, '1********')` saves additional 90% of time."
   ]
  },
  {
   "cell_type": "code",
   "execution_count": null,
   "id": "4c8b1792-b1c1-42fb-a3ee-3b3b60bd0c67",
   "metadata": {},
   "outputs": [],
   "source": [
    "send_sql(conn, \"DROP TABLE IF EXISTS cities_road_network_length;\")\n",
    "sql = '''CREATE TABLE cities_road_network_length\n",
    "  AS SELECT\n",
    "    ST_Collect(ST_CollectionExtract(\n",
    "      CASE\n",
    "        WHEN ST_Within(rl.geom, c.geom) THEN rl.geom\n",
    "        ELSE ST_Intersection(rl.geom, c.geom)\n",
    "      END,\n",
    "    2)) AS roads_geom,\n",
    "    c.area_id AS area_id\n",
    "  FROM streets AS rl\n",
    "  JOIN cities AS c\n",
    "    ON c.geom && rl.geom AND ST_Intersects(c.geom, rl.geom)\n",
    "  GROUP BY c.area_id;\n",
    "'''\n",
    "send_sql(conn, sql)\n",
    "send_sql(conn, \"CREATE INDEX cities_road_network_length_area_id_idx ON cities_road_network_length USING btree(area_id);\")"
   ]
  },
  {
   "cell_type": "markdown",
   "id": "efd37d6b-bd45-42d7-ad2f-88226c070baf",
   "metadata": {},
   "source": [
    "Intersect length of this road network per municpality and the total road network per municipality."
   ]
  },
  {
   "cell_type": "code",
   "execution_count": null,
   "id": "39ae7b64-c2ba-4c89-9b98-a82650a32145",
   "metadata": {},
   "outputs": [],
   "source": [
    "send_sql(conn, \"CREATE INDEX IF NOT EXISTS roads_as_landuse_boundaries_geom_idx ON roads_as_landuse_boundaries USING GIST(geom);\")\n",
    "send_sql(conn, \"DROP TABLE IF EXISTS roads_as_landuse_boundaries_per_city;\")\n",
    "sql = \"\"\"CREATE TABLE roads_as_landuse_boundaries_per_city AS\n",
    "SELECT\n",
    "      ST_Collect(ST_CollectionExtract(\n",
    "        CASE\n",
    "          WHEN ST_Within(rl.geom, c.geom) THEN rl.geom\n",
    "          ELSE ST_Intersection(rl.geom, c.geom)\n",
    "        END,\n",
    "      2)) AS roads_geom,\n",
    "      c.area_id AS area_id\n",
    "    FROM cities AS c\n",
    "    JOIN roads_as_landuse_boundaries AS rl\n",
    "      ON\n",
    "        c.geom && rl.geom\n",
    "        AND ST_Intersects(c.geom, rl.geom)\n",
    "    GROUP BY c.area_id;\n",
    "\"\"\"\n",
    "send_sql(conn, sql)"
   ]
  },
  {
   "cell_type": "markdown",
   "id": "3d79d4fd-c002-4031-9b68-96f82474aa0b",
   "metadata": {},
   "source": [
    "## A dataset of non-overlapping landuse\n",
    "\n",
    "In OpenStreetMap, landuse polygons often overlap each other – often in the case when one landuse is a \"hole\" within another polygon (e.g. lake inside a forest). Before we can reliably determine a matrix of neighbouring landuse classes, we have to get rid of all overlaps."
   ]
  },
  {
   "cell_type": "code",
   "execution_count": null,
   "id": "e60c5e5d-7834-4165-94a2-85b7499548af",
   "metadata": {},
   "outputs": [],
   "source": [
    "send_sql(conn, \"DROP T"
   ]
  }
 ],
 "metadata": {
  "kernelspec": {
   "display_name": "Python 3 (ipykernel)",
   "language": "python",
   "name": "python3"
  },
  "language_info": {
   "codemirror_mode": {
    "name": "ipython",
    "version": 3
   },
   "file_extension": ".py",
   "mimetype": "text/x-python",
   "name": "python",
   "nbconvert_exporter": "python",
   "pygments_lexer": "ipython3",
   "version": "3.11.6"
  }
 },
 "nbformat": 4,
 "nbformat_minor": 5
}
