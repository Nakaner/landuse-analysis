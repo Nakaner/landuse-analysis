{
 "cells": [
  {
   "cell_type": "code",
   "execution_count": null,
   "id": "0",
   "metadata": {},
   "outputs": [],
   "source": [
    "import psycopg2"
   ]
  },
  {
   "cell_type": "code",
   "execution_count": null,
   "id": "1",
   "metadata": {},
   "outputs": [],
   "source": [
    "import psycopg2.extensions"
   ]
  },
  {
   "cell_type": "code",
   "execution_count": null,
   "id": "2",
   "metadata": {},
   "outputs": [],
   "source": [
    "dsn = \"postgresql://michael:@/landuse?host=/run/postgresql\""
   ]
  },
  {
   "cell_type": "code",
   "execution_count": null,
   "id": "3",
   "metadata": {},
   "outputs": [],
   "source": [
    "conn = psycopg2.connect(**psycopg2.extensions.parse_dsn(dsn))"
   ]
  },
  {
   "cell_type": "code",
   "execution_count": null,
   "id": "4",
   "metadata": {},
   "outputs": [],
   "source": [
    "def send_sql(connection, query, **kwargs):\n",
    "    import time\n",
    "    args = kwargs.get(\"args\")\n",
    "    quiet = kwargs.get(\"quiet\", False)\n",
    "    return_result = kwargs.get(\"return_result\", False)\n",
    "    start = time.time()\n",
    "    cursor = connection.cursor()\n",
    "    result = None\n",
    "    rowcount = -1\n",
    "    try:\n",
    "        cursor.execute(query, args)\n",
    "        rowcount = cursor.rowcount\n",
    "        if return_result:\n",
    "            result = cursor.fetchall()\n",
    "        connection.commit()\n",
    "    except Exception as ex:\n",
    "        print(\"Failed to execute SQL statement:\\n{}\\nReason: {}\".format(cursor.query, ex))\n",
    "        connection.rollback()\n",
    "    finally:\n",
    "        cursor.close()\n",
    "        msg = \"Executed SQL command in {:0.3f} seconds.\".format(time.time() - start)\n",
    "        if rowcount >= 0:\n",
    "            msg = \"{}, affected {} rows.\".format(msg[:-1], rowcount)\n",
    "        print(msg)\n",
    "    return result"
   ]
  },
  {
   "cell_type": "markdown",
   "id": "5",
   "metadata": {},
   "source": [
    "## Prepare database\n",
    "\n",
    "We have to make the area_id column of the table `land` unique and calculate the area of each polygon."
   ]
  },
  {
   "cell_type": "code",
   "execution_count": null,
   "id": "6",
   "metadata": {},
   "outputs": [],
   "source": [
    "send_sql(conn, \"ALTER TABLE land ADD CONSTRAINT area_id_unique UNIQUE(area_id);\")"
   ]
  },
  {
   "cell_type": "markdown",
   "id": "7",
   "metadata": {},
   "source": [
    "## Municipalities as polygons\n",
    "\n",
    "First, we have to get the polygon of Germany"
   ]
  },
  {
   "cell_type": "code",
   "execution_count": null,
   "id": "8",
   "metadata": {},
   "outputs": [],
   "source": [
    "sql = \"SELECT geom FROM admin_boundaries WHERE admin_level = 4 AND name = 'Baden-Württemberg';\"\n",
    "germany_wkb = send_sql(conn, sql, return_result=True)[0]\n",
    "#c.execute(sql)\n",
    "#germany_wkb = c.fetchone()[0]"
   ]
  },
  {
   "cell_type": "markdown",
   "id": "9",
   "metadata": {},
   "source": [
    "Create a database table of municipalities"
   ]
  },
  {
   "cell_type": "code",
   "execution_count": null,
   "id": "10",
   "metadata": {},
   "outputs": [],
   "source": [
    "send_sql(conn, \"DROP TABLE IF EXISTS cities;\")\n",
    "send_sql(conn, \"\"\"CREATE TABLE cities AS\n",
    "SELECT\n",
    "    area_id, admin_level, name, tags, geom\n",
    "  FROM admin_boundaries\n",
    "  WHERE admin_level = 8 AND ST_Intersects(geom, %s) AND ST_CoveredBy(geom, %s);\n",
    "\"\"\", args=(germany_wkb, germany_wkb))\n",
    "send_sql(conn, \"CREATE INDEX ON cities USING gist(geom);\")\n",
    "send_sql(conn, \"ALTER TABLE cities ADD CONSTRAINT cities_area_id_unique UNIQUE(area_id);\")"
   ]
  },
  {
   "cell_type": "markdown",
   "id": "11",
   "metadata": {},
   "source": [
    "Add \"kreisfreie Städte\" (AL 6 polygons with no AL 8 inside them):"
   ]
  },
  {
   "cell_type": "code",
   "execution_count": null,
   "id": "12",
   "metadata": {},
   "outputs": [],
   "source": [
    "sql = \"\"\"INSERT INTO cities (area_id, admin_level, name, tags, geom)\n",
    "  SELECT\n",
    "      area_id,\n",
    "      admin_level,\n",
    "      name,\n",
    "      tags,\n",
    "      geom\n",
    "    FROM admin_boundaries AS a\n",
    "    WHERE\n",
    "      admin_level = %s\n",
    "      AND (SELECT c.geom FROM cities AS c WHERE ST_Contains(a.geom, c.geom) LIMIT 1) IS NULL;\"\"\"\n",
    "for level in [6, 4]:\n",
    "    send_sql(conn, sql, args=(level,))"
   ]
  },
  {
   "cell_type": "markdown",
   "id": "13",
   "metadata": {},
   "source": [
    "Create index on name and area_id for later use."
   ]
  },
  {
   "cell_type": "code",
   "execution_count": null,
   "id": "14",
   "metadata": {},
   "outputs": [],
   "source": [
    "send_sql(conn, \"CREATE INDEX IF NOT EXISTS cities_area_id_name_idx ON cities USING btree(area_id, name);\")"
   ]
  },
  {
   "cell_type": "markdown",
   "id": "15",
   "metadata": {},
   "source": [
    "## A dataset of non-overlapping landuse\n",
    "\n",
    "In OpenStreetMap, landuse polygons often overlap each other – often in the case when one landuse is a \"hole\" within another polygon (e.g. lake inside a forest). Before we can reliably determine a matrix of neighbouring landuse classes, we have to get rid of all overlaps."
   ]
  },
  {
   "cell_type": "code",
   "execution_count": null,
   "id": "16",
   "metadata": {},
   "outputs": [],
   "source": [
    "send_sql(conn, \"DROP TABLE IF EXISTS land_without_overlaps;\")\n",
    "sql = \"\"\"CREATE TABLE land_without_overlaps AS\n",
    "SELECT\n",
    "    l.area_id AS area_id,\n",
    "    l.feature AS feature,\n",
    "    l.tags AS tags,\n",
    "    ST_CollectionExtract(\n",
    "      ST_Difference(\n",
    "        l.geom,\n",
    "        ST_Union(\n",
    "          COALESCE(\n",
    "            o.geom,\n",
    "            ST_SetSRID(\n",
    "              ST_GeometryFromText('POLYGON EMPTY'),\n",
    "              4326)\n",
    "            )\n",
    "          )\n",
    "        ),\n",
    "      3) AS geom\n",
    "  FROM land AS l\n",
    "  LEFT OUTER JOIN land AS o\n",
    "    ON o.area < l.area AND ST_Intersects(l.geom, o.geom) AND l.geom && o.geom AND l.area_id <> o.area_id\n",
    "  GROUP BY l.area_id, l.feature, l.tags, l.geom;\n",
    "\"\"\"\n",
    "send_sql(conn, sql)\n",
    "send_sql(conn, \"CREATE INDEX land_without_overlaps_geom_idx ON land_without_overlaps USING gist(geom);\")"
   ]
  },
  {
   "cell_type": "markdown",
   "id": "17",
   "metadata": {},
   "source": [
    "## Landuse polygons clipped to municipalities"
   ]
  },
  {
   "cell_type": "code",
   "execution_count": null,
   "id": "18",
   "metadata": {},
   "outputs": [],
   "source": [
    "send_sql(conn, \"DROP TABLE IF EXISTS landuse_by_municipality;\")\n",
    "sql = \"\"\"CREATE TABLE landuse_by_municipality AS\n",
    "SELECT \n",
    "    l.area_id AS landuse_id,\n",
    "    c.area_id AS city_id,\n",
    "    l.tags AS tags,\n",
    "    CASE\n",
    "      WHEN ST_Within(l.geom, c.geom) THEN l.geom\n",
    "      ELSE ST_CollectionExtract(ST_Intersection(l.geom, c.geom), 3)\n",
    "    END AS geom\n",
    "  FROM land_without_overlaps AS l\n",
    "  JOIN cities AS c\n",
    "    ON l.geom && c.geom AND ST_Intersects(l.geom, c.geom) AND ST_Relate(l.geom, c.geom, 'T********');\n",
    "\"\"\"\n",
    "send_sql(conn, sql)\n",
    "send_sql(conn, \"CREATE INDEX IF NOT EXISTS landuse_by_municipality_city_id ON landuse_by_municipality USING BTREE(city_id);\")"
   ]
  },
  {
   "cell_type": "markdown",
   "id": "19",
   "metadata": {},
   "source": [
    "## Landuse coverage per municipality\n",
    "\n",
    "Overlaps were eliminated in a previous step."
   ]
  },
  {
   "cell_type": "code",
   "execution_count": null,
   "id": "20",
   "metadata": {},
   "outputs": [],
   "source": [
    "send_sql(conn, \"DROP TABLE IF EXISTS landuse_coverage_per_municipality;\")\n",
    "sql = \"\"\"CREATE TABLE landuse_coverage_per_municipality AS\n",
    "SELECT\n",
    "    l.city_id AS city_id,\n",
    "    ST_Area(c.geom::geography) AS city_area,\n",
    "    SUM(ST_Area(l.geom::geography)) AS area_size,\n",
    "    c.geom AS city_geom,\n",
    "    c.name AS city_name\n",
    "  FROM cities AS c\n",
    "  LEFT OUTER JOIN landuse_by_municipality AS l ON c.area_id = l.city_id\n",
    "  GROUP BY city_id, c.name, c.geom;\n",
    "\"\"\"\n",
    "send_sql(conn, sql)\n",
    "send_sql(conn, \"CREATE INDEX IF NOT EXISTS landuse_coverage_per_municipality_id ON landuse_coverage_per_municipality USING BTREE(city_id);\")\n",
    "send_sql(conn, \"CREATE INDEX IF NOT EXISTS landuse_coverage_per_municipality_geom ON landuse_coverage_per_municipality USING GIST(city_geom);\")"
   ]
  },
  {
   "cell_type": "markdown",
   "id": "21",
   "metadata": {},
   "source": [
    "## Overlaps of landuse\n",
    "\n",
    "Find intersections between landuse polygons:"
   ]
  },
  {
   "cell_type": "code",
   "execution_count": null,
   "id": "22",
   "metadata": {},
   "outputs": [],
   "source": [
    "send_sql(conn, \"CREATE INDEX IF NOT EXISTS land_area_size_idx ON land USING btree(area);\")\n",
    "send_sql(conn, \"DROP TABLE IF EXISTS landuse_overlaps;\")\n",
    "sql = \"\"\"CREATE TABLE landuse_overlaps AS\n",
    "SELECT\n",
    "    ST_CollectionExtract(ST_Intersection(a.geom, b.geom), 3) AS geom,\n",
    "    a.area_id AS id1,\n",
    "    b.area_id AS id2,\n",
    "    a.feature AS feature1,\n",
    "    b.feature AS feature2,\n",
    "    a.area AS size_1,\n",
    "    b.area AS size_2\n",
    "  FROM land AS a\n",
    "  JOIN land AS b\n",
    "    ON\n",
    "    a.area >= b.area\n",
    "    AND a.geom && b.geom\n",
    "    AND ST_Intersects(a.geom, b.geom)\n",
    "    AND ST_Relate(a.geom, b.geom, 'T********')\n",
    "    AND a.area_id != b.area_id;\n",
    "\"\"\"\n",
    "send_sql(conn, sql)"
   ]
  },
  {
   "cell_type": "markdown",
   "id": "23",
   "metadata": {},
   "source": [
    "Create a matrix of feature classes overlapping each other by area. `feature1` is the larger polygon, `feature2` the smaller one."
   ]
  },
  {
   "cell_type": "code",
   "execution_count": null,
   "id": "24",
   "metadata": {},
   "outputs": [],
   "source": [
    "send_sql(conn, \"DROP TABLE IF EXISTS landuse_overlaps_feature_classes;\")\n",
    "sql = \"\"\"CREATE TABLE landuse_overlaps_feature_classes AS\n",
    "SELECT\n",
    "    feature1,\n",
    "    feature2,\n",
    "    SUM(ST_Area(geom::geography)) AS area_size,\n",
    "    COUNT(1) AS occurences\n",
    "  FROM landuse_overlaps\n",
    "  GROUP BY feature1, feature2;\n",
    "\"\"\"\n",
    "send_sql(conn, sql)"
   ]
  },
  {
   "cell_type": "markdown",
   "id": "25",
   "metadata": {},
   "source": [
    "Drop distinction between larger and smaller polygons, just make a matrix of landuse classes:"
   ]
  },
  {
   "cell_type": "code",
   "execution_count": null,
   "id": "26",
   "metadata": {},
   "outputs": [],
   "source": [
    "send_sql(conn, \"DROP TABLE IF EXISTS landuse_overlaps_feature_classes_ordered;\")\n",
    "sql = \"\"\"CREATE TABLE landuse_overlaps_feature_classes_ordered AS\n",
    "SELECT\n",
    "    f1 AS feature1,\n",
    "    f2 AS feature2,\n",
    "    SUM(area_size) AS area_size,\n",
    "    COUNT(1) AS occurences\n",
    "  FROM (\n",
    "    SELECT\n",
    "        CASE WHEN feature1 < feature2 THEN feature1 ELSE feature2 END AS f1,\n",
    "        CASE WHEN feature1 < feature2 THEN feature2 ELSE feature1 END AS f2,\n",
    "        ST_Area(geom::geography) AS area_size\n",
    "      FROM landuse_overlaps\n",
    "  ) AS a\n",
    "  GROUP BY f1, f2;\n",
    "\"\"\"\n",
    "send_sql(conn, sql)"
   ]
  },
  {
   "cell_type": "markdown",
   "id": "27",
   "metadata": {},
   "source": [
    "## Generic stats about landuses (sizes, node count, boundary length)\n",
    "\n",
    "Get boundary lines of landuse polygons (as (multi)linestrings) and the area size."
   ]
  },
  {
   "cell_type": "code",
   "execution_count": null,
   "id": "28",
   "metadata": {},
   "outputs": [],
   "source": [
    "send_sql(conn, \"DROP TABLE IF EXISTS landuse_boundary_lines;\")\n",
    "sql = \"\"\"CREATE TABLE landuse_boundary_lines AS\n",
    "SELECT\n",
    "    ST_Boundary(geom) AS geom,\n",
    "    ST_Length(ST_Boundary(geom)::geography) AS length,\n",
    "    ST_NPoints(geom) AS node_count,\n",
    "    ST_Area(geom::geography) AS area_size,\n",
    "    area_id,\n",
    "    feature,\n",
    "    tags\n",
    "  FROM land;\n",
    "\"\"\"\n",
    "send_sql(conn, sql)\n",
    "#send_sql(conn, \"CREATE INDEX landuse_boundary_lines_length_idx ON landuse_boundary_lines USING btree(length);\")\n",
    "#send_sql(conn, \"CREATE INDEX landuse_boundary_lines_node_count_idx ON landuse_boundary_lines USING btree(node_count);\")\n",
    "#send_sql(conn, \"CREATE INDEX landuse_boundary_lines_area_size_idx ON landuse_boundary_lines USING btree(area_size);\")"
   ]
  },
  {
   "cell_type": "markdown",
   "id": "29",
   "metadata": {},
   "source": [
    "Find polygons with long boundary but small area size:"
   ]
  },
  {
   "cell_type": "code",
   "execution_count": null,
   "id": "30",
   "metadata": {},
   "outputs": [],
   "source": [
    "sql = '''SELECT\n",
    "      area_id,\n",
    "      feature,\n",
    "      (sqrt(area_size)/length) AS size_length_ratio,\n",
    "      area_size\n",
    "    FROM landuse_boundary_lines\n",
    "  ORDER BY size_length_ratio ASC NULLS LAST;\n",
    "'''"
   ]
  },
  {
   "cell_type": "markdown",
   "id": "31",
   "metadata": {},
   "source": [
    "Find polygons with many nodes per boundary length:"
   ]
  },
  {
   "cell_type": "code",
   "execution_count": null,
   "id": "32",
   "metadata": {},
   "outputs": [],
   "source": [
    "sql = '''SELECT\n",
    "        area_id,\n",
    "        feature,\n",
    "        area_size,\n",
    "        (length/node_count::REAL) AS length_by_nodes,\n",
    "        length,\n",
    "        node_count\n",
    "      FROM landuse_boundary_lines\n",
    "      ORDER BY length_by_nodes ASC NULLS LAST;\n",
    "'''"
   ]
  },
  {
   "cell_type": "markdown",
   "id": "33",
   "metadata": {},
   "source": [
    "Unfortunately, the result is a bit worthless. The lowest ratio of length and node count is found at small circular areas (less than 1 m²). The largest ratio is found at rectangular forests (or rectangular grass areas on airports). This is not interesting."
   ]
  },
  {
   "cell_type": "code",
   "execution_count": null,
   "id": "34",
   "metadata": {},
   "outputs": [],
   "source": [
    "sql = '''SELECT\n",
    "        area_id,\n",
    "        feature,\n",
    "        area_size,\n",
    "        (node_count::REAL/area) AS nodes_per_area,\n",
    "        length,\n",
    "        node_count\n",
    "      FROM landuse_boundary_lines\n",
    "      ORDER BY length_by_nodes ASC NULLS LAST;\n",
    "'''"
   ]
  },
  {
   "cell_type": "markdown",
   "id": "35",
   "metadata": {},
   "source": [
    "The ratio of node count and area size does not return better results. The top and bottom entries of the list are almost identical."
   ]
  },
  {
   "cell_type": "markdown",
   "id": "36",
   "metadata": {},
   "source": [
    "Municipalities with many/few nodes per area:"
   ]
  },
  {
   "cell_type": "code",
   "execution_count": null,
   "id": "37",
   "metadata": {},
   "outputs": [],
   "source": [
    "send_sql(conn, \"CREATE INDEX IF NOT EXISTS landuse_boundary_lines_geom_idx ON landuse_boundary_lines USING gist(geom);\")\n",
    "send_sql(conn, \"DROP TABLE IF EXISTS nodes_per_municipality;\")\n",
    "sql = '''CREATE TABLE nodes_per_municipality AS\n",
    "SELECT\n",
    "    name,\n",
    "    area_id,\n",
    "    node_count/(ST_Area(area::geography) / 10000) AS nodes_per_area\n",
    "  FROM (\n",
    "    SELECT\n",
    "        c.name,\n",
    "        c.area_id,\n",
    "        SUM(ST_NPoints(ST_Intersection(c.geom, b.geom))) AS node_count,\n",
    "        c.geom AS area\n",
    "      FROM cities AS c\n",
    "      JOIN landuse_boundary_lines AS b\n",
    "        ON c.geom && b.geom AND ST_Intersects(c.geom, b.geom)\n",
    "      GROUP BY c.area_id, c.name, area\n",
    "  ) AS a\n",
    "  ORDER BY node_count DESC NULLS LAST;\n",
    "'''\n",
    "send_sql(conn, sql)"
   ]
  },
  {
   "cell_type": "markdown",
   "id": "38",
   "metadata": {},
   "source": [
    "**TODO**\n",
    "\n",
    "* determine node count per area and per boundary length, its distribution and differences between municipalities\n",
    "* clip landuse boundaries to municipal polygons\n",
    "* determine ratio of sqrt(area size) to boundary length, its distribution and differences between municipalities"
   ]
  },
  {
   "cell_type": "markdown",
   "id": "39",
   "metadata": {},
   "source": [
    "## Multipolygons vs. simple polygons\n",
    "\n",
    "Find multipolygons and compute number of inner and outer rings per multipolygon:"
   ]
  },
  {
   "cell_type": "code",
   "execution_count": null,
   "id": "40",
   "metadata": {},
   "outputs": [],
   "source": [
    "send_sql(conn, \"DROP TABLE IF EXISTS multipolygon_landuse;\")\n",
    "sql = \"\"\"CREATE TABLE multipolygon_landuse AS\n",
    "SELECT\n",
    "    geom,\n",
    "    area_id,\n",
    "    COUNT(1) AS outer_rings,\n",
    "    SUM(ST_NumInteriorRing(dumped_geom)) AS inner_rings,\n",
    "    mp_outer_way_count,\n",
    "    feature,\n",
    "    tags\n",
    "  FROM (\n",
    "    SELECT\n",
    "        geom,\n",
    "        area_id,\n",
    "        (ST_Dump(geom)).geom AS dumped_geom,\n",
    "        mp_outer_way_count,\n",
    "        feature,\n",
    "        tags\n",
    "      FROM land\n",
    "      WHERE area_id < 0\n",
    "    ) AS a\n",
    "  GROUP BY area_id, mp_outer_way_count, feature, tags, geom;\n",
    "\"\"\"\n",
    "send_sql(conn, sql)"
   ]
  },
  {
   "cell_type": "markdown",
   "id": "41",
   "metadata": {},
   "source": [
    "Unnecessary multipolygon per municipality:"
   ]
  },
  {
   "cell_type": "code",
   "execution_count": null,
   "id": "42",
   "metadata": {},
   "outputs": [],
   "source": [
    "send_sql(conn, \"DROP TABLE IF EXISTS unnecessary_multipolygons_per_municipality;\")\n",
    "sql = \"\"\"CREATE TABLE unnecessary_multipolygons_per_municipality AS\n",
    "SELECT\n",
    "    ST_CollectionExtract(ST_Intersection(c.geom, m.geom), 3) AS geom,\n",
    "    m.feature AS feature,\n",
    "    m.outer_rings AS outer_rings,\n",
    "    m.inner_rings AS inner_rings,\n",
    "    m.mp_outer_way_count AS outer_way_count,\n",
    "    m.tags AS tags,\n",
    "    c.area_id AS city_id,\n",
    "    m.area_id AS multipolygon_id\n",
    "  FROM multipolygon_landuse AS m\n",
    "  JOIN cities AS c\n",
    "    ON\n",
    "      c.geom && m.geom\n",
    "      AND ST_Intersects(c.geom, m.geom)\n",
    "      AND ST_Relate(c.geom, m.geom, 'T********')\n",
    "      AND (\n",
    "        (m.outer_rings > 1 AND NOT m.tags?'name')\n",
    "        OR (m.mp_outer_way_count > 1 AND m.outer_rings = 1)\n",
    "      );\n",
    "\"\"\"\n",
    "send_sql(conn, sql)\n",
    "send_sql(conn, \"CREATE INDEX IF NOT EXISTS unnecessary_multipolygons_per_municipality_city_id ON unnecessary_multipolygons_per_municipality USING BTREE(city_id);\")"
   ]
  },
  {
   "cell_type": "markdown",
   "id": "43",
   "metadata": {},
   "source": [
    "Create table to store base values for the multipolygonitis score calculation:"
   ]
  },
  {
   "cell_type": "code",
   "execution_count": null,
   "id": "44",
   "metadata": {},
   "outputs": [],
   "source": [
    "send_sql(conn, \"DROP TABLE IF EXISTS multipolygonitis_score;\")\n",
    "sql = \"\"\"CREATE TABLE multipolygonitis_score AS\n",
    "SELECT\n",
    "    SUM(ST_Area(l.geom::geography)) AS landuse_area,\n",
    "    COUNT(l.geom) AS landuse_count,\n",
    "    a.multipolygon_area AS multipolygon_area,\n",
    "    a.multipolygon_count AS multipolygon_count,\n",
    "    a.city_id AS city_id,\n",
    "    a.city_name AS city_name,\n",
    "    a.city_area AS city_area,\n",
    "    a.city_geom AS city_geom\n",
    "  FROM (\n",
    "    SELECT\n",
    "      SUM(ST_Area(m.geom::geography)) AS multipolygon_area,\n",
    "      COUNT(m.geom) AS multipolygon_count,\n",
    "      c.area_id AS city_id,\n",
    "      c.name AS city_name,\n",
    "      ST_Area(c.geom::geography) AS city_area,\n",
    "      c.geom AS city_geom\n",
    "    FROM cities AS c\n",
    "    LEFT OUTER JOIN unnecessary_multipolygons_per_municipality AS m\n",
    "      ON m.city_id = c.area_id\n",
    "    GROUP BY c.area_id, c.name, c.geom\n",
    "  ) AS a\n",
    "  LEFT OUTER JOIN landuse_by_municipality AS l\n",
    "    ON l.city_id = a.city_id\n",
    "  GROUP BY a.city_id, a.city_name, a.multipolygon_area, a.city_area, a.multipolygon_count, a.city_geom;\n",
    "\"\"\"\n",
    "send_sql(conn, sql)\n",
    "send_sql(conn, \"CREATE INDEX IF NOT EXISTS multipolygonitis_score_geom_idx ON multipolygonitis_score USING gist(city_geom);\")"
   ]
  },
  {
   "cell_type": "markdown",
   "id": "45",
   "metadata": {},
   "source": [
    "## Road segments which are used by landuse polygons"
   ]
  },
  {
   "cell_type": "markdown",
   "id": "46",
   "metadata": {},
   "source": [
    "Get boundary lines of all landuse polygons:"
   ]
  },
  {
   "cell_type": "code",
   "execution_count": null,
   "id": "47",
   "metadata": {},
   "outputs": [],
   "source": [
    "sql = '''\n",
    "DROP TABLE IF EXISTS landuse_boundaries;\n",
    "CREATE TABLE landuse_boundaries AS\n",
    "  SELECT\n",
    "      ST_CollectionExtract(ST_Boundary(geom), 2) AS geom,\n",
    "      area_id,\n",
    "      feature,\n",
    "      tags\n",
    "    FROM land;\n",
    "'''\n",
    "send_sql(conn, sql)\n",
    "send_sql(conn, \"CREATE INDEX landuse_boundaries_geom_idx ON landuse_boundaries USING gist(geom);\")\n",
    "send_sql(conn, \"CREATE INDEX landuse_boundaries_id_idx ON landuse_boundaries USING btree(area_id);\")"
   ]
  },
  {
   "cell_type": "markdown",
   "id": "48",
   "metadata": {},
   "source": [
    "Get intersection of these boundary lines with other landuse boundary lines:"
   ]
  },
  {
   "cell_type": "code",
   "execution_count": null,
   "id": "49",
   "metadata": {},
   "outputs": [],
   "source": [
    "sql = '''\n",
    "DROP TABLE IF EXISTS landuse_landuse_boundaries;\n",
    "CREATE TABLE landuse_landuse_boundaries AS\n",
    "SELECT\n",
    "    ST_CollectionExtract(ST_Intersection(l1.geom, l2.geom), 2) AS geom,\n",
    "    l1.feature AS feature1,\n",
    "    l2.feature AS feature2,\n",
    "    l1.area_id AS land_id1,\n",
    "    l2.area_id AS land_id2,\n",
    "    l1.tags AS tags1,\n",
    "    l2.tags As tags2\n",
    "  FROM landuse_boundaries AS l1\n",
    "  JOIN landuse_boundaries AS l2\n",
    "    -- Ensures that we do not get any duplicates.\n",
    "    -- Using < instead of <> because this makes use of the index.\n",
    "    ON l1.area_id < l2.area_id\n",
    "    AND l1.geom && l2.geom\n",
    "    AND ST_Intersects(l1.geom, l2.geom)\n",
    "    AND ST_Relate(l1.geom, l2.geom, '1********');\n",
    "'''\n",
    "send_sql(conn, sql)"
   ]
  },
  {
   "cell_type": "markdown",
   "id": "50",
   "metadata": {},
   "source": [
    "Find landuse polygons sharing their boundary with roads."
   ]
  },
  {
   "cell_type": "code",
   "execution_count": null,
   "id": "51",
   "metadata": {},
   "outputs": [],
   "source": [
    "sql = '''\n",
    "DROP TABLE IF EXISTS landuse_boundaries_on_roads;\n",
    "SELECT\n",
    "    ST_CollectionExtract(ST_Intersection(ST_Boundary(l.geom), r.geom), 2) AS geom,\n",
    "    l.feature AS land_feature,\n",
    "    l.area_id AS land_id,\n",
    "    COALESCE(r.highway, r.railway) AS road_feature,\n",
    "    r.way_id AS road_id\n",
    "  INTO landuse_boundaries_on_roads\n",
    "  FROM land AS l\n",
    "  JOIN streets AS r ON l.geom && r.geom AND ST_Intersects(l.geom, r.geom) AND ST_Relate(l.geom, r.geom, '***1*****');\n",
    "'''\n",
    "send_sql(conn, sql)"
   ]
  },
  {
   "cell_type": "markdown",
   "id": "52",
   "metadata": {},
   "source": [
    "The table `landuse_boundaries_on_roads` contains duplicates if a road segment belongs to two landuse polygons. They are de-duplicated now:"
   ]
  },
  {
   "cell_type": "code",
   "execution_count": null,
   "id": "53",
   "metadata": {},
   "outputs": [],
   "source": [
    "sql = '''\n",
    "DROP TABLE IF EXISTS roads_as_landuse_boundaries;\n",
    "CREATE INDEX IF NOT EXISTS landuse_boundaries_on_roads_road_id_feature ON landuse_boundaries_on_roads USING btree(road_id, road_feature);\n",
    "CREATE TABLE roads_as_landuse_boundaries AS\n",
    "SELECT\n",
    "    ST_CollectionExtract(ST_Union(ST_ClusterIntersecting(geom)), 2) AS geom,\n",
    "    road_feature,\n",
    "    road_id\n",
    "  FROM landuse_boundaries_on_roads\n",
    "  GROUP BY road_id, road_feature;\n",
    "'''\n",
    "send_sql(conn, sql)"
   ]
  },
  {
   "cell_type": "markdown",
   "id": "54",
   "metadata": {},
   "source": [
    "Get a geometry collection of the roads of each municipality.\n",
    "\n",
    "Performance notes:\n",
    "\n",
    "* In the `SELECT` part, `ST_Within` is faster than using `ST_CoveredBy` or `ST_Relate` (saves 25%).\n",
    "* In the `JOIN` condition, not using `ST_Relate(rl.geom, c.geom, '1********')` saves additional 90% of time."
   ]
  },
  {
   "cell_type": "code",
   "execution_count": null,
   "id": "55",
   "metadata": {},
   "outputs": [],
   "source": [
    "send_sql(conn, \"DROP TABLE IF EXISTS cities_road_network_length;\")\n",
    "sql = '''CREATE TABLE cities_road_network_length\n",
    "  AS SELECT\n",
    "    COALESCE(ST_Length(\n",
    "      ST_Collect(ST_CollectionExtract(\n",
    "        CASE\n",
    "          WHEN ST_Within(rl.geom, c.geom) THEN rl.geom\n",
    "          ELSE ST_Intersection(rl.geom, c.geom)\n",
    "        END,\n",
    "      2))::geography\n",
    "    ), 0::REAL) AS road_length,\n",
    "    c.area_id AS city_id,\n",
    "    c.name AS city_name,\n",
    "    c.geom AS city_geom\n",
    "  FROM cities AS c\n",
    "  LEFT OUTER JOIN streets AS rl\n",
    "    ON c.geom && rl.geom AND ST_Intersects(c.geom, rl.geom)\n",
    "  GROUP BY c.area_id, c.name, c.geom;\n",
    "'''\n",
    "send_sql(conn, sql)\n",
    "send_sql(conn, \"CREATE INDEX cities_road_network_length_area_id_idx ON cities_road_network_length USING btree(city_id);\")\n",
    "send_sql(conn, \"CREATE INDEX cities_road_network_length_geom_idx ON cities_road_network_length USING gist(city_geom);\")"
   ]
  },
  {
   "cell_type": "markdown",
   "id": "56",
   "metadata": {},
   "source": [
    "Intersect length of this road network per municpality and get a GeometryCollection of all roads per municipality:"
   ]
  },
  {
   "cell_type": "code",
   "execution_count": null,
   "id": "57",
   "metadata": {},
   "outputs": [],
   "source": [
    "send_sql(conn, \"CREATE INDEX IF NOT EXISTS roads_as_landuse_boundaries_geom_idx ON roads_as_landuse_boundaries USING GIST(geom);\")\n",
    "send_sql(conn, \"DROP TABLE IF EXISTS roads_as_landuse_boundaries_per_city;\")\n",
    "sql = \"\"\"CREATE TABLE roads_as_landuse_boundaries_per_city AS\n",
    "SELECT\n",
    "      COALESCE(ST_Collect(\n",
    "        ST_CollectionExtract(\n",
    "          CASE\n",
    "            WHEN ST_Within(rl.geom, c.geom) THEN rl.geom\n",
    "            ELSE ST_Intersection(rl.geom, c.geom)\n",
    "          END,\n",
    "          2)\n",
    "      ), ST_SetSRID(ST_GeometryFromText('LINESTRING EMPTY'), 4326)) AS roads_geom,\n",
    "      c.area_id AS city_id,\n",
    "      c.name AS city_name,\n",
    "      c.geom AS city_geom\n",
    "    FROM cities AS c\n",
    "    LEFT OUTER JOIN roads_as_landuse_boundaries AS rl\n",
    "      ON\n",
    "        c.geom && rl.geom\n",
    "        AND ST_Intersects(c.geom, rl.geom)\n",
    "    GROUP BY c.area_id, c.name, c.geom;\n",
    "\"\"\"\n",
    "send_sql(conn, sql)\n",
    "send_sql(conn, \"CREATE INDEX IF NOT EXISTS roads_as_landuse_boundaries_per_city_idx ON roads_as_landuse_boundaries_per_city USING btree(city_id);\")"
   ]
  },
  {
   "cell_type": "markdown",
   "id": "58",
   "metadata": {},
   "source": [
    "Do the same for landuse boundaries on roads (if a road is used by two neighbouring landuse polygons, it will appear twice):"
   ]
  },
  {
   "cell_type": "code",
   "execution_count": null,
   "id": "59",
   "metadata": {},
   "outputs": [],
   "source": [
    "send_sql(conn, \"CREATE INDEX IF NOT EXISTS landuse_boundaries_on_roads_geom_idx ON landuse_boundaries_on_roads USING GIST(geom);\")\n",
    "send_sql(conn, \"DROP TABLE IF EXISTS landuse_boundaries_on_roads_per_city;\")\n",
    "sql = \"\"\"CREATE TABLE landuse_boundaries_on_roads_per_city AS\n",
    "SELECT\n",
    "      COALESCE(ST_Collect(\n",
    "        ST_CollectionExtract(\n",
    "          CASE\n",
    "            WHEN ST_Within(rl.geom, c.geom) THEN rl.geom\n",
    "            ELSE ST_Intersection(rl.geom, c.geom)\n",
    "          END,\n",
    "          2)\n",
    "      ), ST_SetSRID(ST_GeometryFromText('LINESTRING EMPTY'), 4326)) AS roads_geom,\n",
    "      c.area_id AS city_id,\n",
    "      c.name AS city_name,\n",
    "      c.geom AS city_geom\n",
    "    FROM cities AS c\n",
    "    LEFT OUTER JOIN landuse_boundaries_on_roads AS rl\n",
    "      ON\n",
    "        c.geom && rl.geom\n",
    "        AND ST_Intersects(c.geom, rl.geom)\n",
    "    GROUP BY c.area_id, c.name, c.geom;\n",
    "\"\"\"\n",
    "send_sql(conn, sql)\n",
    "send_sql(conn, \"CREATE INDEX IF NOT EXISTS landuse_boundaries_on_roads_per_city_idx ON landuse_boundaries_on_roads_per_city USING btree(city_id);\")"
   ]
  },
  {
   "cell_type": "markdown",
   "id": "60",
   "metadata": {},
   "source": [
    "Determine per municipality how large the proportion of landuse boundaries glued to roads compared to all roads is."
   ]
  },
  {
   "cell_type": "code",
   "execution_count": null,
   "id": "61",
   "metadata": {},
   "outputs": [],
   "source": [
    "send_sql(conn, \"DROP TABLE IF EXISTS roads_landuse_boundary_fraction_per_city;\")\n",
    "sql = \"\"\"CREATE TABLE roads_landuse_boundary_fraction_per_city AS\n",
    "SELECT\n",
    "    landuse_boundaries_on_roads_length / landuse_boundary_length AS landuse_boundaries_on_roads_fraction,\n",
    "    landuse_boundaries_on_roads_length AS landuse_boundaries_on_roads,\n",
    "    landuse_boundary_length,\n",
    "    roads_as_landuse_boundary_length / road_network_length AS roads_as_landuse_boundary_fraction,\n",
    "    roads_as_landuse_boundary_length,\n",
    "    road_network_length,\n",
    "    coverage_fraction,\n",
    "    city_id,\n",
    "    city_name,\n",
    "    city_geom\n",
    "FROM (\n",
    "  SELECT\n",
    "    ST_Length(br.roads_geom::geography) AS landuse_boundaries_on_roads_length,\n",
    "    ST_Length(b.geom::geography) AS landuse_boundary_length,\n",
    "    ST_Length(rb.roads_geom::geography) AS roads_as_landuse_boundary_length,\n",
    "    c.road_length AS road_network_length,\n",
    "    cov.area_size/cov.city_area AS coverage_fraction,\n",
    "    c.city_name AS city_name,\n",
    "    c.city_id AS city_id,\n",
    "    c.city_geom AS city_geom\n",
    "  FROM cities_road_network_length AS c\n",
    "  LEFT OUTER JOIN roads_as_landuse_boundaries_per_city AS rb\n",
    "    ON rb.city_id = c.city_id\n",
    "  LEFT OUTER JOIN landuse_boundaries_per_city AS b\n",
    "    ON b.city_id = c.city_id\n",
    "  LEFT OUTER JOIN landuse_boundaries_on_roads_per_city AS br\n",
    "    ON br.city_id = c.city_id\n",
    "  LEFT OUTER JOIN landuse_coverage_per_municipality AS cov\n",
    "    ON cov.city_id = c.city_id\n",
    "  ) AS a;\n",
    "\"\"\"\n",
    "send_sql(conn, sql)\n",
    "send_sql(conn, \"CREATE INDEX IF NOT EXISTS roads_landuse_boundary_fraction_per_city_geom_idx ON roads_landuse_boundary_fraction_per_city USING gist(city_geom);\")"
   ]
  },
  {
   "cell_type": "markdown",
   "id": "62",
   "metadata": {},
   "source": [
    "Determine per municipality how large the proportion of landuse boundaries glued to other landuse boundaries compared to all landuse boundaries is."
   ]
  },
  {
   "cell_type": "code",
   "execution_count": null,
   "id": "63",
   "metadata": {},
   "outputs": [],
   "source": [
    "send_sql(conn, \"CREATE INDEX IF NOT EXISTS landuse_landuse_boundaries_geom_idx ON landuse_landuse_boundaries USING gist(geom);\")\n",
    "sql = \"\"\"\n",
    "DROP TABLE IF EXISTS landuse_boundaries_per_city;\n",
    "CREATE TABLE landuse_boundaries_per_city AS\n",
    "SELECT\n",
    "    ST_CollectionExtract(ST_Collect(\n",
    "      CASE\n",
    "        WHEN ST_Within(lb.geom, c.geom) THEN lb.geom\n",
    "        ELSE ST_Intersection(lb.geom, c.geom)\n",
    "      END\n",
    "    ), 2) AS geom,\n",
    "    c.area_id AS city_id\n",
    "  FROM cities AS c\n",
    "  LEFT OUTER JOIN landuse_boundaries AS lb\n",
    "    ON\n",
    "      c.geom && lb.geom\n",
    "      AND ST_Intersects(c.geom, lb.geom)\n",
    "  GROUP BY c.area_id;\n",
    "\"\"\"\n",
    "send_sql(conn, sql)\n",
    "sql = \"\"\"\n",
    "DROP TABLE IF EXISTS landuse_landuse_boundaries_per_city;\n",
    "CREATE TABLE landuse_landuse_boundaries_per_city AS\n",
    "SELECT\n",
    "    ST_CollectionExtract(ST_Collect(\n",
    "      CASE\n",
    "        WHEN ST_Within(llb.geom, c.geom) THEN llb.geom\n",
    "        ELSE ST_Intersection(llb.geom, c.geom)\n",
    "      END\n",
    "    ), 2) AS geom,\n",
    "    c.area_id AS city_id\n",
    "  FROM cities AS c\n",
    "  LEFT OUTER JOIN landuse_landuse_boundaries AS llb\n",
    "    ON\n",
    "      c.geom && llb.geom\n",
    "      AND ST_Intersects(c.geom, llb.geom)\n",
    "  GROUP BY c.area_id;\n",
    "\"\"\"\n",
    "send_sql(conn, sql)\n",
    "send_sql(conn, \"CREATE INDEX IF NOT EXISTS landuse_boundaries_per_city_city_id ON landuse_boundaries_per_city USING btree(city_id);\")\n",
    "send_sql(conn, \"CREATE INDEX IF NOT EXISTS landuse_landuse_boundaries_per_city_city_id ON landuse_landuse_boundaries_per_city USING btree(city_id);\")\n",
    "sql = \"\"\"DROP TABLE IF EXISTS landuse_landuse_boundary_fraction_per_municipality;\n",
    "CREATE TABLE landuse_landuse_boundary_fraction_per_municipality AS\n",
    "SELECT\n",
    "    bb_len/b_len AS bounds_fraction,\n",
    "    bb_len AS boundary_boundary_length,\n",
    "    b_len boundary_length,\n",
    "    city_id,\n",
    "    name AS city_name,\n",
    "    city_geom,\n",
    "    coverage_fraction\n",
    "FROM (\n",
    "  SELECT\n",
    "    -- Multiplication by 2 because boundary-boundary intersections were deduplicated in a previous step.\n",
    "    ST_Length(bb.geom::geography) * 2 AS bb_len,\n",
    "    ST_Length(b.geom::geography) AS b_len,\n",
    "    cov.area_size/cov.city_area AS coverage_fraction,\n",
    "    c.name AS name,\n",
    "    c.area_id AS city_id,\n",
    "    c.geom AS city_geom\n",
    "  FROM cities AS c\n",
    "  LEFT OUTER JOIN landuse_landuse_boundaries_per_city AS bb\n",
    "    ON bb.city_id = c.area_id\n",
    "  LEFT OUTER JOIN landuse_boundaries_per_city AS b\n",
    "    ON b.city_id = c.area_id\n",
    "  LEFT OUTER JOIN landuse_coverage_per_municipality AS cov\n",
    "    ON cov.city_id = c.area_id\n",
    "  ) AS a;\n",
    "\"\"\"\n",
    "send_sql(conn, sql)"
   ]
  },
  {
   "cell_type": "markdown",
   "id": "64",
   "metadata": {},
   "source": [
    "When inspecting the `landuse_landuse_boundary_fraction_per_municipality` table, you should keep in mind that municipalities without almost complete landuse coverage will have high fractions of landuse boundaries not sharing nodes with other landuse boundaries because they have no neighbours."
   ]
  },
  {
   "cell_type": "markdown",
   "id": "65",
   "metadata": {},
   "source": [
    "## Landuse polygons almost touching each other or roads\n",
    "\n",
    "As a first step, we find all landuse boundary line which are not shared with other landuse polygons.\n",
    "Shorten the linestrings and caluclate buffers."
   ]
  },
  {
   "cell_type": "code",
   "execution_count": null,
   "id": "66",
   "metadata": {},
   "outputs": [],
   "source": [
    "send_sql(conn, \"DROP TABLE IF EXISTS lonely_landuse_boundaries;\")\n",
    "buffer_dist = 1.0\n",
    "sql = \"\"\"CREATE TABLE lonely_landuse_boundaries AS\n",
    "SELECT\n",
    "    ST_Transform(ST_LineSubstring(geom_3857, cutoff_fraction, 1.0-cutoff_fraction), 4326)::geography AS geog_for_buffer,\n",
    "    geom AS geom,\n",
    "    geom::geography AS geog,\n",
    "    feature,\n",
    "    mercator_factor,\n",
    "    area_id\n",
    "  FROM (\n",
    "    SELECT\n",
    "        -- buffer_dist multiplied by Mercator factor because ST_LineSubString works with Geometry type.\n",
    "        ({} * mercator_factor) / length AS cutoff_fraction,\n",
    "        mercator_factor,\n",
    "        ST_Transform(geom, 3857) AS geom_3857,\n",
    "        geom,\n",
    "        feature,\n",
    "        area_id\n",
    "      FROM (\n",
    "        SELECT\n",
    "            1.0 / cos(RADIANS(ST_Y(ST_StartPoint(geom)))) AS mercator_factor,\n",
    "            ST_Length(geom::geography) AS length,\n",
    "            geom,\n",
    "            feature,\n",
    "            area_id\n",
    "          FROM (\n",
    "            SELECT\n",
    "                (ST_Dump(\n",
    "                  ST_CollectionExtract(\n",
    "                    ST_Difference(\n",
    "                      c.geom,\n",
    "                      ST_Collect(COALESCE(rlb.geom, ST_SetSRID(ST_GeomFromText('LINESTRING EMPTY'), 4326)))\n",
    "                    ),\n",
    "                  2)\n",
    "                )).geom AS geom,\n",
    "                c.feature AS feature,\n",
    "                c.area_id AS area_id\n",
    "              FROM (\n",
    "                SELECT\n",
    "                    ST_Difference(\n",
    "                      lb.geom, ST_Collect(COALESCE(llb.geom, ST_SetSRID(ST_GeomFromText('LINESTRING EMPTY'), 4326)))\n",
    "                    ) AS geom,\n",
    "                    lb.feature AS feature,\n",
    "                    lb.area_id AS area_id\n",
    "                  FROM landuse_boundaries AS lb\n",
    "                  LEFT OUTER JOIN landuse_landuse_boundaries AS llb\n",
    "                    ON lb.geom && llb.geom AND ST_Intersects(lb.geom, llb.geom)\n",
    "                  GROUP BY lb.area_id, lb.feature, lb.geom\n",
    "              ) AS c\n",
    "              LEFT OUTER JOIN roads_as_landuse_boundaries AS rlb\n",
    "                ON c.geom && rlb.geom AND ST_Intersects(c.geom, rlb.geom)\n",
    "              GROUP BY c.area_id, c.feature, c.geom\n",
    "          ) AS d\n",
    "      ) AS b\n",
    "      WHERE length > 5 * {}\n",
    "  ) AS a;\n",
    "\"\"\".format(buffer_dist * 2.0, buffer_dist * 2.0)\n",
    "send_sql(conn, sql)"
   ]
  },
  {
   "cell_type": "code",
   "execution_count": null,
   "id": "67",
   "metadata": {},
   "outputs": [],
   "source": []
  },
  {
   "cell_type": "markdown",
   "id": "68",
   "metadata": {},
   "source": [
    "Find intersections:"
   ]
  },
  {
   "cell_type": "code",
   "execution_count": null,
   "id": "69",
   "metadata": {},
   "outputs": [],
   "source": [
    "send_sql(conn, \"DROP TABLE IF EXISTS closeby_landuse_intersections;\")\n",
    "send_sql(conn, \"CREATE INDEX IF NOT EXISTS lonely_landuse_boundaries_buffer ON lonely_landuse_boundaries USING gist(geog_for_buffer);\")\n",
    "send_sql(conn, \"ALTER TABLE streets ADD COLUMN IF NOT EXISTS geog geography; UPDATE streets SET geog = geom::geography WHERE geog IS NULL;\")\n",
    "sql = \"\"\"CREATE INDEX IF NOT EXISTS streets_geog ON streets USING gist(geog)\n",
    "  WHERE highway IN ('motorway', 'motorway_link', 'trunk', 'trunk_link', 'primary', 'primary_link',\n",
    "      'secondary', 'secondary_link', 'tertiary', 'tertiary_link', 'unclassified', 'residential',\n",
    "      'living_street', 'pedestrian', 'service', 'track', 'busway', 'bus_guideway')\n",
    "    OR railway IN ('rail', 'narrow_gauge', 'tram', 'subway', 'ligh_rail', 'monorail', 'funicular');\n",
    "\"\"\"\n",
    "send_sql(conn, sql)\n",
    "sql = \"\"\"CREATE TABLE closeby_landuse_intersections AS\n",
    "SELECT\n",
    "    ST_CollectionExtract(ST_Intersection(ST_Buffer(a.geog_for_buffer, {buffer_dist})::geometry, b.geom), 2) AS geom,\n",
    "    a.area_id AS id1,\n",
    "    b.area_id AS id2,\n",
    "    a.feature AS feature1,\n",
    "    b.feature AS feature2,\n",
    "    TRUE AS touches_to_landuse\n",
    "  FROM lonely_landuse_boundaries AS a\n",
    "  JOIN lonely_landuse_boundaries AS b\n",
    "    ON ST_DWithin(a.geog_for_buffer, b.geog, {buffer_dist}) AND a.area_id < b.area_id\n",
    "UNION ALL\n",
    "SELECT\n",
    "    ST_CollectionExtract(ST_Intersection(ST_Buffer(a.geog_for_buffer, {buffer_dist})::geometry, r.geom), 2) AS geom,\n",
    "    a.area_id AS id1,\n",
    "    r.way_id AS id2,\n",
    "    a.feature AS feature1,\n",
    "    COALESCE(r.highway, r.railway) AS feature2,\n",
    "    FALSE AS touches_to_landuse\n",
    "  FROM lonely_landuse_boundaries AS a\n",
    "  JOIN streets AS r\n",
    "    ON ST_DWithin(a.geog_for_buffer, r.geog, {buffer_dist})\n",
    "      AND (\n",
    "        r.highway IN ('motorway', 'motorway_link', 'trunk', 'trunk_link', 'primary', 'primary_link',\n",
    "          'secondary', 'secondary_link', 'tertiary', 'tertiary_link', 'unclassified', 'residential',\n",
    "          'living_street', 'pedestrian', 'service', 'track', 'busway', 'bus_guideway')\n",
    "        OR r.railway IN ('rail', 'narrow_gauge', 'tram', 'subway', 'ligh_rail', 'monorail', 'funicular')\n",
    "      );\n",
    "\"\"\".format(buffer_dist=buffer_dist)\n",
    "send_sql(conn, sql)"
   ]
  },
  {
   "cell_type": "markdown",
   "id": "70",
   "metadata": {},
   "source": [
    "Table of length of boundaries with near-by touches per municipality:"
   ]
  },
  {
   "cell_type": "code",
   "execution_count": null,
   "id": "71",
   "metadata": {},
   "outputs": [],
   "source": [
    "send_sql(conn, \"DROP TABLE IF EXISTS closeby_landuse_intersections_per_municipality;\")\n",
    "send_sql(conn, \"CREATE INDEX IF NOT EXISTS closeby_landuse_intersections_geom ON closeby_landuse_intersections USING gist(geom);\")\n",
    "send_sql(conn, \"CREATE INDEX IF NOT EXISTS landuse_landuse_boundary_fraction_per_municipality_city_id ON landuse_landuse_boundary_fraction_per_municipality USING btree(city_id);\")\n",
    "sql = \"\"\"CREATE TABLE closeby_landuse_intersections_per_municipality AS\n",
    "SELECT\n",
    "    ST_Length(ST_CollectionExtract(ST_Collect(ST_Intersection(i.geom, c.geom)), 2)::geography) AS length,\n",
    "    i.touches_to_landuse AS touches_to_landuse,\n",
    "    llb.boundary_length AS boundary_length,\n",
    "    c.area_id AS city_id,\n",
    "    c.name AS name\n",
    "  FROM cities AS c\n",
    "  JOIN closeby_landuse_intersections AS i\n",
    "    ON c.geom && i.geom AND ST_Intersects(c.geom, i.geom)\n",
    "  JOIN landuse_landuse_boundary_fraction_per_municipality AS llb\n",
    "    ON c.area_id = llb.city_id\n",
    "  GROUP BY c.area_id, c.name, i.touches_to_landuse, llb.boundary_length, c.geom;\n",
    "\"\"\"\n",
    "send_sql(conn, sql)"
   ]
  },
  {
   "cell_type": "markdown",
   "id": "72",
   "metadata": {},
   "source": [
    "## Age of landuse polygons\n",
    "\n",
    "**TODO**"
   ]
  },
  {
   "cell_type": "code",
   "execution_count": null,
   "id": "73",
   "metadata": {},
   "outputs": [],
   "source": [
    "send_sql(conn, \"DROP TABLE IF EXISTS landuse_nodes;\")\n",
    "send_sql(conn, \"CREATE INDEX IF NOT EXISTS land_rel_id_idx ON land USING btree(area_id) WHERE area_id < 0;\")\n",
    "\n",
    "# very slow (I stopped the query after more than 5 minutes)\n",
    "#sql = \"\"\"CREATE TABLE landuse_relation_nodes AS\n",
    "#SELECT\n",
    "#    relways.landuse_id AS landuse_id,\n",
    "#    relways.feature AS feature,\n",
    "#    n.id AS node_id,\n",
    "#    ST_SetSRID(ST_MakePoint(n.lon, n.lat), 4326) AS node_geom,\n",
    "#    n.created AS last_modified,\n",
    "#    n.version AS version\n",
    "#  FROM planet_osm_nodes AS n\n",
    "#  JOIN (\n",
    "#    SELECT\n",
    "#        l.area_id AS landuse_id,\n",
    "#        l.feature AS feature,\n",
    "#        w.id AS way_id,\n",
    "#        w.nodes AS nodes\n",
    "#      FROM land AS l\n",
    "#      JOIN planet_osm_rels AS r ON -l.area_id = r.id AND l.area_id < 0\n",
    "#      JOIN planet_osm_ways AS w ON r.members @> ('[{\"ref\": ' || w.id::TEXT || ', \"type\": \"W\"}]')::jsonb\n",
    "#  ) AS relways ON n.id = ANY(relways.nodes);\n",
    "#\"\"\"\n",
    "sql = \"\"\"CREATE OR REPLACE FUNCTION convert_coord(c INTEGER) RETURNS FLOAT AS $$\n",
    "BEGIN\n",
    "  IF c IS NULL THEN\n",
    "    RETURN NULL;\n",
    "  END IF;\n",
    "  RETURN c::FLOAT * 10.0^(-7);\n",
    "END;\n",
    "$$ LANGUAGE plpgsql STABLE LEAKPROOF PARALLEL SAFE STRICT;\n",
    "\n",
    "CREATE TABLE landuse_nodes AS\n",
    "WITH landuse_relation_nodes AS (\n",
    "SELECT\n",
    "    r.landuse_id AS landuse_id,\n",
    "    r.feature AS feature,\n",
    "    n.id AS node_id,\n",
    "    ST_SetSRID(ST_MakePoint(convert_coord(n.lon), convert_coord(n.lat)), 4326) AS geom,\n",
    "    n.created AS last_modified,\n",
    "    n.version AS version\n",
    "  FROM planet_osm_ways AS w\n",
    "  JOIN (\n",
    "    SELECT\n",
    "        l.area_id AS landuse_id,\n",
    "        l.feature AS feature,\n",
    "        jsonb_path_query(r.members, '($[*] ? (@.type == \"W\")).ref') AS way_id\n",
    "      FROM land AS l\n",
    "      JOIN planet_osm_rels AS r ON -l.area_id = r.id AND l.area_id < 0\n",
    "  ) AS r ON r.way_id::BIGINT = w.id\n",
    "  JOIN planet_osm_nodes AS n ON n.id = ANY(w.nodes)\n",
    ")\n",
    "-- The pure way-nodes part (simple polygons) takes 12 s.\n",
    "SELECT\n",
    "    l.area_id AS landuse_id,\n",
    "    l.feature AS feature,\n",
    "    n.id AS node_id,\n",
    "    ST_SetSRID(ST_MakePoint(convert_coord(n.lon), convert_coord(n.lat)), 4326) AS geom,\n",
    "    n.created AS last_modified,\n",
    "    n.version AS version\n",
    "  FROM planet_osm_ways AS w\n",
    "  -- Instead of joining with the land table, we could write a WHERE condition using the same implementation as the Lua code.\n",
    "  JOIN land AS l ON l.area_id = w.id\n",
    "  JOIN planet_osm_nodes AS n ON n.id = ANY(w.nodes)\n",
    "UNION ALL\n",
    "-- The relations-way-nodes part (multipolygons) takes 3 s.\n",
    "SELECT * FROM landuse_relation_nodes;\n",
    "\"\"\"\n",
    "send_sql(conn, sql)\n",
    "send_sql(conn, \"CREATE INDEX landuse_nodes_geom_idx ON landuse_nodes USING gist(geom);\")\n",
    "send_sql(conn, \"CREATE INDEX landuse_nodes_area_id_idx ON landuse_nodes USING btree(landuse_id);\")"
   ]
  },
  {
   "cell_type": "markdown",
   "id": "74",
   "metadata": {},
   "source": [
    "Find median age of landuse per polygon:"
   ]
  },
  {
   "cell_type": "code",
   "execution_count": null,
   "id": "75",
   "metadata": {},
   "outputs": [],
   "source": [
    "send_sql(conn, \"DROP TABLE IF EXISTS landuse_polygon_age;\")\n",
    "sql = \"\"\"CREATE TABLE landuse_polygon_age AS\n",
    "SELECT\n",
    "    n.landuse_id,\n",
    "    n.feature,\n",
    "    l.tags->'source' AS source,\n",
    "    MIN(n.last_modified) AS oldest_timestamp,\n",
    "    MAX(n.last_modified) AS newest_timestamp,\n",
    "    to_timestamp((PERCENTILE_CONT(0.5) WITHIN GROUP(ORDER BY EXTRACT(EPOCH FROM n.last_modified)))::BIGINT) AS median_timestamp,\n",
    "    COUNT(1) AS node_count,\n",
    "    l.geom AS geom\n",
    "  FROM landuse_nodes AS n\n",
    "  JOIN land AS l\n",
    "    ON n.landuse_id = l.area_id\n",
    "  GROUP BY n.landuse_id, n.feature, l.tags->'source', l.geom;\n",
    "\"\"\"\n",
    "send_sql(conn, sql)"
   ]
  },
  {
   "cell_type": "markdown",
   "id": "76",
   "metadata": {},
   "source": [
    "Get node age per municipality:"
   ]
  },
  {
   "cell_type": "code",
   "execution_count": null,
   "id": "77",
   "metadata": {},
   "outputs": [],
   "source": [
    "send_sql(conn, \"DROP TABLE IF EXISTS landuse_node_age_per_municipality;\")\n",
    "sql = \"\"\"CREATE TABLE landuse_node_age_per_municipality AS\n",
    "SELECT\n",
    "    MIN(n.last_modified) AS oldest_timestamp,\n",
    "    MAX(n.last_modified) AS newest_timestamp,\n",
    "    to_timestamp((PERCENTILE_CONT(0.5) WITHIN GROUP(ORDER BY EXTRACT(EPOCH FROM n.last_modified)))::BIGINT) AS median_timestamp,\n",
    "    COUNT(1) AS node_count,\n",
    "    c.area_id AS city_id,\n",
    "    c.name AS name,\n",
    "    ST_Area(c.geom) AS area\n",
    "  FROM cities AS c\n",
    "  JOIN landuse_nodes AS n\n",
    "    ON c.geom && n.geom AND ST_Intersects(c.geom, n.geom)\n",
    "  GROUP BY c.area_id, c.name, c.geom;\n",
    "\"\"\"\n",
    "send_sql(conn, sql)"
   ]
  }
 ],
 "metadata": {
  "kernelspec": {
   "display_name": "Python 3 (ipykernel)",
   "language": "python",
   "name": "python3"
  },
  "language_info": {
   "codemirror_mode": {
    "name": "ipython",
    "version": 3
   },
   "file_extension": ".py",
   "mimetype": "text/x-python",
   "name": "python",
   "nbconvert_exporter": "python",
   "pygments_lexer": "ipython3",
   "version": "3.10.12"
  }
 },
 "nbformat": 4,
 "nbformat_minor": 5
}
