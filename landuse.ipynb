{
 "cells": [
  {
   "cell_type": "code",
   "execution_count": 28,
   "id": "0",
   "metadata": {},
   "outputs": [],
   "source": [
    "import psycopg2\n",
    "import psycopg2.extensions\n",
    "import numpy as np\n",
    "import matplotlib.pyplot as plt\n",
    "import matplotlib as mpl\n",
    "plt.rc('font', size=18)"
   ]
  },
  {
   "cell_type": "code",
   "execution_count": 29,
   "id": "1",
   "metadata": {},
   "outputs": [],
   "source": [
    "dsn = \"postgresql://michael:@/landuse?host=/run/postgresql\""
   ]
  },
  {
   "cell_type": "code",
   "execution_count": 30,
   "id": "2",
   "metadata": {},
   "outputs": [],
   "source": [
    "conn = psycopg2.connect(**psycopg2.extensions.parse_dsn(dsn))"
   ]
  },
  {
   "cell_type": "code",
   "execution_count": 31,
   "id": "3",
   "metadata": {},
   "outputs": [],
   "source": [
    "def send_sql(connection, query, **kwargs):\n",
    "    import time\n",
    "    args = kwargs.get(\"args\")\n",
    "    quiet = kwargs.get(\"quiet\", False)\n",
    "    return_result = kwargs.get(\"return_result\", False)\n",
    "    start = time.time()\n",
    "    cursor = connection.cursor()\n",
    "    result = None\n",
    "    rowcount = -1\n",
    "    try:\n",
    "        cursor.execute(query, args)\n",
    "        rowcount = cursor.rowcount\n",
    "        if return_result:\n",
    "            result = cursor.fetchall()\n",
    "        connection.commit()\n",
    "    except Exception as ex:\n",
    "        print(\"Failed to execute SQL statement:\\n{}\\nReason: {}\".format(cursor.query, ex))\n",
    "        connection.rollback()\n",
    "    finally:\n",
    "        cursor.close()\n",
    "        msg = \"Executed SQL command in {:0.3f} seconds.\".format(time.time() - start)\n",
    "        if rowcount >= 0:\n",
    "            msg = \"{}, affected {} rows.\".format(msg[:-1], rowcount)\n",
    "        print(msg)\n",
    "    return result\n",
    "\n",
    "def figsize_in(width_px, height_px):\n",
    "    return [width_px / 100, height_px / 100]"
   ]
  },
  {
   "cell_type": "markdown",
   "id": "4",
   "metadata": {},
   "source": [
    "## Prepare database\n",
    "\n",
    "We have to make the area_id column of the table `land` unique and calculate the area of each polygon."
   ]
  },
  {
   "cell_type": "code",
   "execution_count": null,
   "id": "5",
   "metadata": {},
   "outputs": [],
   "source": [
    "send_sql(conn, \"ALTER TABLE land ADD CONSTRAINT area_id_unique UNIQUE(area_id);\")"
   ]
  },
  {
   "cell_type": "markdown",
   "id": "f03cd5c7-1132-4427-bb8e-0ab216a99a22",
   "metadata": {},
   "source": [
    "Optimize Nominatim country grid:"
   ]
  },
  {
   "cell_type": "code",
   "execution_count": null,
   "id": "aba751bd-793d-4781-b4c1-1975054e29a7",
   "metadata": {},
   "outputs": [],
   "source": [
    "sql = \"\"\"DROP TABLE IF EXISTS country_grid;\n",
    "CREATE TABLE country_grid AS\n",
    "SELECT country_code, ST_SetSRID((ST_Dump(geometry)).geom, 4326) AS geom\n",
    "  FROM country_osm_grid;\n",
    "\"\"\"\n",
    "send_sql(conn, sql) # 1 second\n",
    "send_sql(conn, \"CREATE INDEX IF NOT EXISTS country_grid_geom ON country_grid USING gist(geom);\")"
   ]
  },
  {
   "cell_type": "markdown",
   "id": "8",
   "metadata": {},
   "source": [
    "Create a database table containing a grid within the clipping area:"
   ]
  },
  {
   "cell_type": "code",
   "execution_count": null,
   "id": "9",
   "metadata": {},
   "outputs": [],
   "source": [
    "xmin = -24.6\n",
    "ymin = 33.9\n",
    "xmax = 46.76\n",
    "ymax = 80.9\n",
    "tilesize = 0.12\n",
    "\n",
    "sql = \"\"\"DROP TABLE IF EXISTS grid_cells_raw;\n",
    "CREATE TABLE grid_cells_raw (\n",
    "    id        SERIAL,      \n",
    "    x1        DOUBLE PRECISION,\n",
    "    y1        DOUBLE PRECISION,\n",
    "    in_or_near_water BOOLEAN DEFAULT FALSE,\n",
    "    at_coastline BOOLEAN DEFAULT FALSE,\n",
    "    updated BOOLEAN DEFAULT FALSE,\n",
    "    geom geometry(MultiPolygon, 4326)\n",
    ");\n",
    "CREATE VIEW tiles AS\n",
    "  SELECT *\n",
    "    FROM generate_series({xmin}, {xmax}, {tilesize}) AS x, generate_series({ymin}, {ymax}, {tilesize}) AS y;\n",
    "CREATE VIEW bbox AS\n",
    "  SELECT x AS x1, y AS y1, (x + {tilesize}) AS x2, (y + {tilesize}) AS y2\n",
    "    FROM tiles;\n",
    "INSERT INTO grid_cells_raw (x1, y1, geom)\n",
    "  SELECT\n",
    "      x1,\n",
    "      y1,\n",
    "      ST_SetSRID(ST_Multi(ST_MakeBox2D(ST_MakePoint(b.x1, b.y1), ST_MakePoint(b.x2, b.y2))), 4326) AS geom\n",
    "    FROM bbox AS b;\n",
    "DROP VIEW bbox;\n",
    "DROP VIEW tiles;\n",
    "CREATE INDEX grid_cells_raw_geom_idx ON grid_cells_raw USING GIST(geom);\n",
    "ALTER TABLE grid_cells_raw ALTER COLUMN geom TYPE geometry(Geometry, 4326);\n",
    "CREATE INDEX grid_cells_raw_id ON grid_cells_raw USING btree(id);\n",
    "\"\"\".format(xmin=xmin, ymin=ymin, xmax=xmax, ymax=ymax, tilesize=tilesize)\n",
    "send_sql(conn, sql) # 4 seconds"
   ]
  },
  {
   "cell_type": "markdown",
   "id": "8bb6374d-b872-4b51-8414-9e46bf0e9d6d",
   "metadata": {},
   "source": [
    "Clip grid cells to clipping poly file of the OSM extract:"
   ]
  },
  {
   "cell_type": "code",
   "execution_count": null,
   "id": "b436bc6f-635e-4350-a818-25cb89aa0e24",
   "metadata": {
    "scrolled": true
   },
   "outputs": [],
   "source": [
    "response = send_sql(conn, \"SELECT wkb_geometry, ST_Boundary(wkb_geometry) FROM clipping_area\", return_result=True)\n",
    "clipping_area = response[0][0]\n",
    "clipping_bounds = response[0][1]\n",
    "sql = \"\"\"UPDATE grid_cells_raw AS g\n",
    "  SET geom = ST_CollectionExtract(ST_Intersection(g.geom, %s), 3)\n",
    "  WHERE geom && %s AND ST_Intersects(geom, %s);\n",
    "\"\"\" # Europe: 2 seconds\n",
    "send_sql(conn, sql, args=(clipping_area, clipping_bounds, clipping_bounds))\n",
    "sql = \"\"\"DELETE FROM grid_cells_raw\n",
    "  WHERE NOT ST_Intersects(geom, %s);\n",
    "\"\"\" # Europe: 1 second\n",
    "send_sql(conn, sql, args=(clipping_area,))"
   ]
  },
  {
   "cell_type": "markdown",
   "id": "7158be9b-145a-4574-b00c-2e744c83499f",
   "metadata": {},
   "source": [
    "Delete grid cells not covered by `country_grid`:"
   ]
  },
  {
   "cell_type": "code",
   "execution_count": null,
   "id": "e3396ce2-1c21-47e3-9d59-0930d2bf58e0",
   "metadata": {},
   "outputs": [],
   "source": [
    "sql = \"\"\"DELETE FROM grid_cells_raw\n",
    "  WHERE\n",
    "    id NOT IN (\n",
    "      SELECT\n",
    "          g.id\n",
    "        FROM grid_cells_raw AS g\n",
    "        JOIN country_grid AS c\n",
    "          ON g.geom && c.geom AND ST_Intersects(g.geom, c.geom)\n",
    "    );\n",
    "\"\"\"\n",
    "send_sql(conn, sql) # Europe: 2 seconds"
   ]
  },
  {
   "cell_type": "markdown",
   "id": "53301fa9-63f8-4598-8296-3ec9c17e23eb",
   "metadata": {},
   "source": [
    "Delete grid cells covered by ocean:"
   ]
  },
  {
   "cell_type": "code",
   "execution_count": null,
   "id": "35863ef8-20dc-4080-b982-0fa1cb3bd845",
   "metadata": {},
   "outputs": [],
   "source": [
    "sql = \"\"\"DELETE FROM grid_cells_raw\n",
    "  WHERE id IN (\n",
    "    SELECT g.id AS id\n",
    "      FROM grid_cells_raw AS g\n",
    "      JOIN water_polygons_split AS w\n",
    "        ON g.geom && w.wkb_geometry AND ST_Covers(w.wkb_geometry, g.geom)\n",
    "    );\n",
    "\"\"\"\n",
    "send_sql(conn, sql) # Europe: 44 seconds\n",
    "sql = \"\"\"UPDATE grid_cells_raw AS g\n",
    "  SET in_or_near_water = TRUE\n",
    "  FROM water_polygons_split AS w\n",
    "  WHERE g.geom && w.wkb_geometry AND ST_Intersects(g.geom, w.wkb_geometry);\n",
    "\"\"\"\n",
    "send_sql(conn, sql) ## Europe: 44 seconds\n",
    "sql = \"\"\"UPDATE grid_cells_raw\n",
    "  SET at_coastline = TRUE\n",
    "  FROM coastlines_split AS c\n",
    "  WHERE c.wkb_geometry && geom AND ST_Intersects(c.wkb_geometry, geom);\n",
    "\"\"\"\n",
    "send_sql(conn, sql) # Europe: 13 seconds\n",
    "send_sql(conn, \"CREATE INDEX IF NOT EXISTS grid_cells_raw_near_water_id ON grid_cells_raw USING btree(id) WHERE in_or_near_water;\")\n",
    "send_sql(conn, \"DELETE FROM grid_cells_raw WHERE in_or_near_water AND NOT at_coastline;\") # 1 second\n",
    "# The final UPDATE query clipping at the coastline takes more than 13 minutes.\n",
    "# Any intersection/difference operation with water body or land takes ages.\n",
    "# Therefore we skip this step and have to get along with grid cells not clipped to the coast.\n",
    "#send_sql(conn, \"ALTER TABLE water_polygons_split ADD COLUMN near_grid_cell BOOLEAN DEFAULT FALSE;\")\n",
    "#sql = \"\"\"UPDATE water_polygons_split AS w\n",
    "#  SET near_grid_cell = TRUE\n",
    "#  FROM grid_cells_raw AS g\n",
    "#  WHERE g.geom && w.wkb_geometry AND ST_Intersects(g.geom, w.wkb_geometry);\n",
    "#\"\"\"\n",
    "send_sql(conn, sql) # Europe: 11 seconds \n",
    "#send_sql(conn, \"CREATE INDEX IF NOT EXISTS grid_cells_raw_near_water_geom ON grid_cells_raw USING gist(geom) WHERE in_or_near_water;\")\n",
    "#send_sql(conn, \"CREATE INDEX IF NOT EXISTS water_polygons_split_near_grid_cell ON water_polygons_split USING gist(wkb_geometry) WHERE near_grid_cell;\")\n",
    "#send_sql(conn, \"CREATE INDEX grid_cells_raw_at_coastline ON grid_cells_raw USING gist(geom) WHERE at_coastline;\")\n",
    "#sql = \"\"\"UPDATE grid_cells_raw AS g\n",
    "#  SET\n",
    "#    geom = ST_CollectionExtract(ST_Difference(g.geom, water_geom), 3),\n",
    "#    updated = TRUE\n",
    "#  FROM (\n",
    "#    SELECT\n",
    "#        geom,\n",
    "#        ST_Union(w.wkb_geometry) AS water_geom,\n",
    "#        id\n",
    "#      FROM grid_cells_raw as g\n",
    "#      JOIN water_polygons_split AS w\n",
    "#        ON g.at_coastline AND g.geom && w.wkb_geometry AND ST_Intersects(g.geom, w.wkb_geometry)\n",
    "#      GROUP BY id, geom\n",
    "#  ) AS b\n",
    "#  WHERE g.id = b.id;\n",
    "#\"\"\""
   ]
  },
  {
   "cell_type": "markdown",
   "id": "a14a5a34-de42-4686-9863-07793324e714",
   "metadata": {},
   "source": [
    "Intersect grid cells with country grid to get analysis clipped to national borders."
   ]
  },
  {
   "cell_type": "code",
   "execution_count": null,
   "id": "6cf4d089-fa3b-4b6d-9de3-50ca8b991b0c",
   "metadata": {},
   "outputs": [],
   "source": [
    "send_sql(conn, \"DROP TABLE IF EXISTS grid_cells;\")\n",
    "sql = \"\"\"CREATE TABLE grid_cells AS\n",
    "SELECT\n",
    "    g.id AS old_id,\n",
    "    ST_CollectionExtract(ST_Intersection(g.geom, ST_Union(c.geom)), 3) AS geom,\n",
    "    c.country_code AS country_code\n",
    "  FROM grid_cells_raw AS g\n",
    "  JOIN country_grid AS c\n",
    "    ON g.geom && c.geom AND ST_Intersects(g.geom, c.geom)\n",
    "  GROUP BY g.id, c.country_code, g.geom;\n",
    "ALTER TABLE grid_cells DROP COLUMN old_id;\n",
    "ALTER TABLE grid_cells ADD COLUMN id SERIAL PRIMARY KEY;\n",
    "UPDATE grid_cells SET geom = ST_SetSRID(geom, 4326);\n",
    "\"\"\"\n",
    "send_sql(conn, sql) # Europe: 30 seconds\n",
    "send_sql(conn, \"CREATE INDEX grid_cells_geom_idx ON grid_cells USING gist(geom);\")"
   ]
  },
  {
   "cell_type": "markdown",
   "id": "133406b7-46d5-4d12-a3e5-f2d5ac410a80",
   "metadata": {},
   "source": [
    "## Landuse polygons clipped to grid cells"
   ]
  },
  {
   "cell_type": "code",
   "execution_count": null,
   "id": "17",
   "metadata": {},
   "outputs": [],
   "source": [
    "send_sql(conn, \"DROP TABLE IF EXISTS landuse_by_cell;\")\n",
    "grid_resolution = 0.00000001\n",
    "sql = \"\"\"CREATE TABLE landuse_by_cell AS\n",
    "SELECT\n",
    "    ST_Area(geom::geography) AS area,\n",
    "    area_id,\n",
    "    cell_id,\n",
    "    feature,\n",
    "    tags,\n",
    "    geom\n",
    "  FROM (\n",
    "    SELECT\n",
    "        l.area_id AS area_id,\n",
    "        c.id AS cell_id,\n",
    "        l.feature AS feature,\n",
    "        l.tags AS tags,\n",
    "        CASE\n",
    "          WHEN ST_Within(l.geom, c.geom) THEN ST_SnapToGrid(l.geom, {grid_resolution})\n",
    "          ELSE ST_SnapToGrid(ST_CollectionExtract(ST_Intersection(l.geom, c.geom), 3), {grid_resolution})\n",
    "        END AS geom\n",
    "      FROM land AS l\n",
    "      JOIN grid_cells AS c\n",
    "        ON l.geom && c.geom AND ST_Intersects(l.geom, c.geom) AND ST_Relate(l.geom, c.geom, 'T********')\n",
    "  ) AS a;\n",
    "\"\"\".format(grid_resolution=grid_resolution)\n",
    "# 36 minutes; 22 seconds for Baden-Württemberg\n",
    "send_sql(conn, sql)\n",
    "#send_sql(conn, \"CREATE INDEX IF NOT EXISTS landuse_by_cell_id ON landuse_by_cell USING BTREE(cell_id);\")\n",
    "#send_sql(conn, \"CREATE INDEX IF NOT EXISTS landuse_by_cell_geom ON landuse_by_cell USING GIST(geom);\")\n",
    "#send_sql(conn, \"CREATE INDEX IF NOT EXISTS landuse_by_cell_area ON landuse_by_cell USING BTREE(area);\")"
   ]
  },
  {
   "cell_type": "markdown",
   "id": "14",
   "metadata": {},
   "source": [
    "## A dataset of non-overlapping landuse\n",
    "\n",
    "In OpenStreetMap, landuse polygons often overlap each other – often in the case when one landuse is a \"hole\" within another polygon (e.g. lake inside a forest). Before we can reliably determine a matrix of neighbouring landuse classes, we have to get rid of all overlaps."
   ]
  },
  {
   "cell_type": "code",
   "execution_count": 6,
   "id": "2509ad13-3ad3-4b3b-9c84-acb4dfdf6112",
   "metadata": {},
   "outputs": [],
   "source": [
    "snapping_resolution = 0.000000001"
   ]
  },
  {
   "cell_type": "code",
   "execution_count": 7,
   "id": "15",
   "metadata": {},
   "outputs": [
    {
     "name": "stdout",
     "output_type": "stream",
     "text": [
      "Executed SQL command in 0.002 seconds.\n",
      "Executed SQL command in 8528.171 seconds, affected 2865873 rows.\n",
      "Executed SQL command in 25.711 seconds.\n"
     ]
    }
   ],
   "source": [
    "send_sql(conn, \"DROP TABLE IF EXISTS landuse_by_cell_snapped;\")\n",
    "sql = \"\"\"CREATE TABLE landuse_by_cell_snapped AS\n",
    "  SELECT\n",
    "      area_id,\n",
    "      cell_id,\n",
    "      feature,\n",
    "      geom,\n",
    "      ST_Boundary(geom) AS boundary_geom),\n",
    "      area\n",
    "    FROM (\n",
    "      SELECT\n",
    "        area_id,\n",
    "        cell_id,\n",
    "        feature,\n",
    "        ST_Buffer(ST_SnapToGrid((ST_Dump(geom)).geom, %s), 0.0) AS geom,\n",
    "        area\n",
    "      FROM landuse_by_cell\n",
    "    ) AS a;\n",
    "\"\"\"\n",
    "send_sql(conn, sql, args=(snapping_resolution,))\n",
    "send_sql(conn, \"CREATE INDEX IF NOT EXISTS landuse_by_cell_snapped_geom ON landuse_by_cell_snapped USING gist(geom);\")\n",
    "send_sql(conn, \"CREATE INDEX IF NOT EXISTS landuse_by_cell_snapped_boundary_geom ON landuse_by_cell_snapped USING gist(boundary_geom);\")\n",
    "send_sql(conn, \"CREATE INDEX IF NOT EXISTS landuse_by_cell_snapped_id ON landuse_by_cell_snapped USING BTREE(cell_id);\")\n",
    "send_sql(conn, \"CREATE INDEX IF NOT EXISTS landuse_by_cell_snapped_area ON landuse_by_cell_snapped USING BTREE(area);\")\n",
    "send_sql(conn, \"DROP TABLE IF EXISTS landuse_by_cell_without_overlaps;\")\n",
    "sql = \"\"\"CREATE TABLE landuse_by_cell_without_overlaps AS\n",
    "SELECT\n",
    "    l.area_id AS area_id,\n",
    "    l.cell_id AS cell_id,\n",
    "    l.feature AS feature,\n",
    "    ST_CollectionExtract(\n",
    "      ST_Difference(\n",
    "        l.geom,\n",
    "        ST_Union(o.geom)\n",
    "      ),\n",
    "    3) AS geom\n",
    "  FROM landuse_by_cell_snapped AS l\n",
    "  JOIN landuse_by_cell_snapped AS o\n",
    "    ON o.area < l.area AND ST_Intersects(l.geom, o.geom) AND ST_Relate(l.geom, o.geom, 'T********') AND l.geom && o.geom AND l.area_id <> o.area_id AND l.cell_id = o.cell_id\n",
    "  GROUP BY l.area_id, l.cell_id, l.feature, l.geom;\n",
    "\"\"\"\n",
    "send_sql(conn, sql) # Baden-Württemberg: 110 seconds, Germany: 1046 seconds, Europe: 8528 seconds\n",
    "send_sql(conn, \"CREATE INDEX land_without_overlaps_geom_idx ON landuse_by_cell_without_overlaps USING gist(geom);\")"
   ]
  },
  {
   "cell_type": "markdown",
   "id": "18",
   "metadata": {},
   "source": [
    "The same with landuse polygons that do not contain overlapping areas:"
   ]
  },
  {
   "cell_type": "code",
   "execution_count": null,
   "id": "94fff862-c8b6-4b99-a445-6fa55cd3d9d0",
   "metadata": {},
   "outputs": [],
   "source": [
    "sql = \"\"\"INSERT INTO landuse_by_cell_without_overlaps (area_id, feature, geom)\n",
    "SELECT \n",
    "    l.area_id AS area_id,\n",
    "    l.feature AS feature,\n",
    "    l.geom AS geom\n",
    "  FROM landuse_by_cell AS l\n",
    "  LEFT OUTER JOIN landuse_by_cell AS o\n",
    "    ON o.area < l.area AND ST_Intersects(l.geom, o.geom) AND ST_Relate(l.geom, o.geom, 'T********') AND l.geom && o.geom AND l.area_id <> o.area_id AND l.cell_id = o.cell_id\n",
    "  WHERE o.geom IS NULL; \n",
    "\"\"\"\n",
    "send_sql(conn, sql) # Baden-Württemberg: 141 seconds, Germany: 2352 seconds"
   ]
  },
  {
   "cell_type": "markdown",
   "id": "20",
   "metadata": {},
   "source": [
    "## Landuse coverage per cell\n",
    "\n",
    "Overlaps were eliminated in a previous step."
   ]
  },
  {
   "cell_type": "code",
   "execution_count": 9,
   "id": "21",
   "metadata": {},
   "outputs": [
    {
     "name": "stdout",
     "output_type": "stream",
     "text": [
      "Executed SQL command in 0.000 seconds.\n",
      "Executed SQL command in 251.857 seconds, affected 73944 rows.\n",
      "Executed SQL command in 0.088 seconds.\n",
      "Executed SQL command in 0.414 seconds.\n"
     ]
    }
   ],
   "source": [
    "send_sql(conn, \"DROP TABLE IF EXISTS landuse_coverage_per_cell;\")\n",
    "sql = \"\"\"CREATE TABLE landuse_coverage_per_cell AS\n",
    "SELECT\n",
    "    c.id AS cell_id,\n",
    "    ST_Area(c.geom::geography) AS cell_area,\n",
    "    SUM(ST_Area(l.geom::geography)) AS area_size,\n",
    "    c.geom AS cell_geom\n",
    "  FROM grid_cells AS c\n",
    "  LEFT OUTER JOIN landuse_by_cell_without_overlaps AS l ON c.id = l.cell_id\n",
    "  GROUP BY c.id, c.geom;\n",
    "\"\"\"\n",
    "send_sql(conn, sql) # 8 seconds for Baden-Württemberg, 43 for Germany\n",
    "send_sql(conn, \"CREATE INDEX IF NOT EXISTS landuse_coverage_per_cell_id ON landuse_coverage_per_cell USING BTREE(cell_id);\")\n",
    "send_sql(conn, \"CREATE INDEX IF NOT EXISTS landuse_coverage_per_cell_geom ON landuse_coverage_per_cell USING GIST(cell_geom);\")"
   ]
  },
  {
   "cell_type": "markdown",
   "id": "22",
   "metadata": {},
   "source": [
    "## Area of landuse by feature classes"
   ]
  },
  {
   "cell_type": "code",
   "execution_count": 10,
   "id": "23",
   "metadata": {},
   "outputs": [
    {
     "name": "stdout",
     "output_type": "stream",
     "text": [
      "Executed SQL command in 585.987 seconds, affected 1460 rows.\n"
     ]
    }
   ],
   "source": [
    "sql = \"\"\"DROP TABLE IF EXISTS landuse_feature_class_areas;\n",
    "CREATE TABLE landuse_feature_class_areas AS\n",
    "SELECT\n",
    "    feature,\n",
    "    SUM(ST_Area(geom::geography)) AS area_size\n",
    "  FROM land\n",
    "  GROUP BY feature;\n",
    "\"\"\"\n",
    "send_sql(conn, sql) # 11 seconds for Baden-Württemberg, 73 for Germany"
   ]
  },
  {
   "cell_type": "markdown",
   "id": "24",
   "metadata": {},
   "source": [
    "Plot size of landuse classes. We plot the largest ones only and no pie plot because there are overlaps and unmapped areas."
   ]
  },
  {
   "cell_type": "code",
   "execution_count": 11,
   "id": "25",
   "metadata": {},
   "outputs": [
    {
     "name": "stdout",
     "output_type": "stream",
     "text": [
      "Executed SQL command in 0.004 seconds, affected 1460 rows.\n"
     ]
    },
    {
     "data": {
      "image/png": "[encoded data removed]",
      "text/plain": [
       "<Figure size 850x480 with 1 Axes>"
      ]
     },
     "metadata": {},
     "output_type": "display_data"
    }
   ],
   "source": [
    "results = send_sql(conn, \"SELECT feature, area_size FROM landuse_feature_class_areas ORDER BY area_size DESC;\", return_result=True)\n",
    "max_cols = 7\n",
    "max_cols = min(max_cols, len(results))\n",
    "all_classes_area_size = sum([r[1] for r in results])\n",
    "classes = [r[0] for r in results[0:max_cols-1]]\n",
    "area_sizes = [r[1] for r in results[0:max_cols-1]]\n",
    "\n",
    "classes.append(\"other\")\n",
    "area_sizes.append(all_classes_area_size - sum(area_sizes))\n",
    "area_sizes = [a / 10**6  for a in area_sizes]\n",
    "fig, ax = plt.subplots(figsize=figsize_in(850, 480))\n",
    "ax.bar(classes, area_sizes)\n",
    "plt.xticks(rotation=30, ha='right')\n",
    "ax.set_ylabel('area (km²)')\n",
    "plt.show()\n",
    "fig.savefig('talk/plots/feature_classes_with_overlaps.svg', facecolor='white')"
   ]
  },
  {
   "cell_type": "markdown",
   "id": "26",
   "metadata": {},
   "source": [
    "No the same without overlaps:"
   ]
  },
  {
   "cell_type": "code",
   "execution_count": null,
   "id": "27",
   "metadata": {},
   "outputs": [],
   "source": [
    "sql = \"\"\"DROP TABLE IF EXISTS landuse_feature_class_area_without_overlaps;\n",
    "CREATE TABLE landuse_feature_class_area_without_overlaps AS\n",
    "SELECT\n",
    "    feature,\n",
    "    SUM(ST_Area(geom::geography)) AS area_size\n",
    "  FROM landuse_by_cell_without_overlaps\n",
    "  GROUP BY feature;\n",
    "\"\"\"\n",
    "send_sql(conn, sql) # BW: 14 seconds, Germany: 91 seconds\n",
    "results = send_sql(conn, \"SELECT feature, area_size FROM landuse_feature_class_area_without_overlaps ORDER BY area_size DESC;\", return_result=True)\n",
    "total_area_size = send_sql(conn, \"SELECT SUM(ST_Area(geom::geography)) FROM grid_cells;\", return_result=True)[0][0]\n",
    "all_classes_area_size_no = sum([r[1] for r in results])\n",
    "area_sizes_no = []\n",
    "classes2 = [c for c in classes]\n",
    "for c in classes2:\n",
    "    for row in results:\n",
    "        if row[0] == c:\n",
    "            area_sizes_no.append(row[1])\n",
    "if classes2[-1] == 'other':\n",
    "    area_sizes_no.append(all_classes_area_size_no - sum(area_sizes_no))\n",
    "classes2.append('none')\n",
    "area_sizes2 = [a for a in area_sizes]\n",
    "area_sizes2.append(0)\n",
    "area_sizes_no.append(total_area_size - all_classes_area_size_no)\n",
    "data = {\n",
    "    'with overlaps': area_sizes2,\n",
    "    'without overlaps': [ a / 10**6 for a in area_sizes_no],\n",
    "}\n",
    "colors = {\n",
    "    'with overlaps': 'tab:red',\n",
    "    'without overlaps': 'tab:blue',\n",
    "}\n",
    "x = np.arange(len(classes2))\n",
    "fig, ax = plt.subplots(figsize=figsize_in(830, 590))\n",
    "width = 1.0 / 3\n",
    "multiplier = 0\n",
    "\n",
    "for with_without, values in data.items():\n",
    "    offset = width * multiplier\n",
    "    rects = ax.bar(x + offset, values, width, label=with_without, color=colors[with_without])\n",
    "    #ax.bar_label(rects, padding=2, fmt='%.0f')\n",
    "    multiplier += 1\n",
    "\n",
    "ax.set_ylabel('area (km²)')\n",
    "plt.xticks(rotation=22, ha='right')\n",
    "#ax.set_title('Featureklassen mit und ohne Überlappungen')\n",
    "ax.set_xticks(x + 0.5 * width, classes2)\n",
    "ax.legend(loc='upper left', ncol=2)\n",
    "ax.set_ylim(0, 1.2 * max(area_sizes2))\n",
    "plt.show()\n",
    "fig.savefig('talk/plots/feature_classes_without_overlaps.svg', facecolor='white')"
   ]
  },
  {
   "cell_type": "markdown",
   "id": "28",
   "metadata": {},
   "source": [
    "## Overlaps of landuse\n",
    "\n",
    "Find intersections between landuse polygons:"
   ]
  },
  {
   "cell_type": "code",
   "execution_count": 19,
   "id": "29",
   "metadata": {},
   "outputs": [
    {
     "name": "stdout",
     "output_type": "stream",
     "text": [
      "Executed SQL command in 0.001 seconds.\n",
      "Executed SQL command in 0.045 seconds.\n",
      "Executed SQL command in 6479.518 seconds, affected 10843295 rows.\n"
     ]
    }
   ],
   "source": [
    "send_sql(conn, \"CREATE INDEX IF NOT EXISTS land_area_size_idx ON land USING btree(area);\")\n",
    "send_sql(conn, \"DROP TABLE IF EXISTS landuse_overlaps;\")\n",
    "sql = \"\"\"CREATE TABLE landuse_overlaps AS\n",
    "SELECT\n",
    "    ST_CollectionExtract(\n",
    "      ST_Intersection(\n",
    "        a.geom,\n",
    "        b.geom\n",
    "      ),\n",
    "    3) AS geom,\n",
    "    a.area_id AS id1,\n",
    "    b.area_id AS id2,\n",
    "    a.feature AS feature1,\n",
    "    b.feature AS feature2,\n",
    "    a.area AS size_1,\n",
    "    b.area AS size_2\n",
    "  FROM landuse_by_cell_snapped AS a\n",
    "  JOIN landuse_by_cell_snapped AS b\n",
    "    ON\n",
    "    a.area >= b.area\n",
    "    AND a.geom && b.geom\n",
    "    AND ST_Intersects(a.geom, b.geom)\n",
    "    AND ST_Relate(a.geom, b.geom, 'T********')\n",
    "    AND a.area_id != b.area_id;\n",
    "\"\"\"\n",
    "send_sql(conn, sql) # 82 seconds for Baden-Württemberg, 854 seconds for Germany"
   ]
  },
  {
   "cell_type": "markdown",
   "id": "30",
   "metadata": {},
   "source": [
    "Create a matrix of feature classes overlapping each other by area. `feature1` is the larger polygon, `feature2` the smaller one."
   ]
  },
  {
   "cell_type": "code",
   "execution_count": 20,
   "id": "31",
   "metadata": {},
   "outputs": [
    {
     "name": "stdout",
     "output_type": "stream",
     "text": [
      "Executed SQL command in 0.001 seconds.\n",
      "Executed SQL command in 75.966 seconds, affected 10485 rows.\n"
     ]
    }
   ],
   "source": [
    "send_sql(conn, \"DROP TABLE IF EXISTS landuse_overlaps_feature_classes;\")\n",
    "sql = \"\"\"CREATE TABLE landuse_overlaps_feature_classes AS\n",
    "SELECT\n",
    "    feature1,\n",
    "    feature2,\n",
    "    SUM(ST_Area(geom::geography)) AS area_size,\n",
    "    COUNT(1) AS occurences\n",
    "  FROM landuse_overlaps\n",
    "  GROUP BY feature1, feature2;\n",
    "\"\"\"\n",
    "send_sql(conn, sql) # 2 seconds for Baden-Württemberg, 9 seconds for Germany"
   ]
  },
  {
   "cell_type": "markdown",
   "id": "32",
   "metadata": {},
   "source": [
    "Find most important feature classes for a matrix:"
   ]
  },
  {
   "cell_type": "code",
   "execution_count": 21,
   "id": "33",
   "metadata": {},
   "outputs": [
    {
     "name": "stdout",
     "output_type": "stream",
     "text": [
      "Executed SQL command in 0.020 seconds, affected 10485 rows.\n",
      "0.5\n"
     ]
    },
    {
     "data": {
      "image/png": "[encoded data removed]",
      "text/plain": [
       "<Figure size 850x480 with 2 Axes>"
      ]
     },
     "metadata": {},
     "output_type": "display_data"
    }
   ],
   "source": [
    "sql = \"\"\"SELECT\n",
    "    feature1,\n",
    "    feature2,\n",
    "    area_size\n",
    "  FROM landuse_overlaps_feature_classes\n",
    "  ORDER BY area_size DESC;\n",
    "\"\"\"\n",
    "matches = send_sql(conn, sql, return_result=True)\n",
    "# Conversion factor from square meter to km^2\n",
    "factor = 10**6\n",
    "total_overlapping_area = sum([m[2] for m in matches]) / factor\n",
    "max_classes = 7\n",
    "left = []\n",
    "top = []\n",
    "# Find at most max_matches classes for left and top labels.\n",
    "for row in matches:\n",
    "    if row[0] == 'plateau' or row[1] == 'plateau':\n",
    "        continue\n",
    "    if len(left) < max_classes and len(top) < max_classes and row[0] not in left and row[1] not in top:\n",
    "        left.append(row[0])\n",
    "        top.append(row[1])\n",
    "values = np.zeros((max_classes, max_classes))\n",
    "for row in matches:\n",
    "    if row[0] in left and row[1] in top:\n",
    "        left_idx = left.index(row[0])\n",
    "        top_idx = top.index(row[1])\n",
    "        values[left_idx][top_idx] = row[2]\n",
    "# Convert to ha\n",
    "values = values / factor\n",
    "fig, ax = plt.subplots(figsize=figsize_in(850, 480))\n",
    "im = ax.imshow(values, cmap='YlGn')\n",
    "colorbar = ax.figure.colorbar(im, ax=ax)\n",
    "colorbar.ax.set_ylabel('km²')\n",
    "plt.rc('font', size=16)\n",
    "ax.set_xticks(np.arange(len(top)), labels=top)\n",
    "ax.set_ylabel('greater area')\n",
    "ax.set_yticks(np.arange(len(left)), labels=left)\n",
    "ax.set_xlabel('smaller area')\n",
    "ax.grid(which=\"minor\", color=\"w\", linestyle='-', linewidth=3)\n",
    "ax.spines[:].set_visible(False)\n",
    "# Rotate the tick labels and set their alignment.\n",
    "plt.setp(ax.get_xticklabels(), rotation=45, ha=\"right\",\n",
    "         rotation_mode=\"anchor\")\n",
    "\n",
    "# Loop over data dimensions and create text annotations.\n",
    "threshold = im.norm(values.max()) / 2.0\n",
    "print(threshold)\n",
    "for i in range(len(left)):\n",
    "    for j in range(len(top)):\n",
    "        color = 'white'\n",
    "        if im.norm(values[i, j]) < threshold:\n",
    "            color = 'black'\n",
    "        text = ax.text(j, i, \"{:.0f}\".format(values[i, j]), ha=\"center\", va=\"center\", color=color)\n",
    "\n",
    "ax.set_title(\"total: {:.0f} km²\".format(total_overlapping_area))\n",
    "#fig.tight_layout()\n",
    "plt.show()\n",
    "fig.savefig('talk/plots/overlaps_matrix.svg', facecolor='white')\n",
    "plt.rc('font', size=18)"
   ]
  },
  {
   "cell_type": "markdown",
   "id": "34",
   "metadata": {},
   "source": [
    "Drop distinction between larger and smaller polygons, just make a matrix of landuse classes:"
   ]
  },
  {
   "cell_type": "code",
   "execution_count": 22,
   "id": "35",
   "metadata": {},
   "outputs": [
    {
     "name": "stdout",
     "output_type": "stream",
     "text": [
      "Executed SQL command in 0.001 seconds.\n",
      "Executed SQL command in 80.176 seconds, affected 7724 rows.\n"
     ]
    }
   ],
   "source": [
    "send_sql(conn, \"DROP TABLE IF EXISTS landuse_overlaps_feature_classes_ordered;\")\n",
    "sql = \"\"\"CREATE TABLE landuse_overlaps_feature_classes_ordered AS\n",
    "SELECT\n",
    "    f1 AS feature1,\n",
    "    f2 AS feature2,\n",
    "    SUM(area_size) AS area_size,\n",
    "    COUNT(1) AS occurences\n",
    "  FROM (\n",
    "    SELECT\n",
    "        CASE WHEN feature1 < feature2 THEN feature1 ELSE feature2 END AS f1,\n",
    "        CASE WHEN feature1 < feature2 THEN feature2 ELSE feature1 END AS f2,\n",
    "        ST_Area(geom::geography) AS area_size\n",
    "      FROM landuse_overlaps\n",
    "  ) AS a\n",
    "  GROUP BY f1, f2;\n",
    "\"\"\"\n",
    "send_sql(conn, sql) # Baden-Württemberg: 2 seconds, Germany: 10 seconds"
   ]
  },
  {
   "cell_type": "markdown",
   "id": "36",
   "metadata": {},
   "source": [
    "## Generic stats about landuses (sizes, node count, boundary length)\n",
    "\n",
    "Get boundary lines of landuse polygons (as (multi)linestrings) and the area size."
   ]
  },
  {
   "cell_type": "code",
   "execution_count": 23,
   "id": "37",
   "metadata": {},
   "outputs": [
    {
     "name": "stdout",
     "output_type": "stream",
     "text": [
      "Executed SQL command in 0.001 seconds.\n",
      "Executed SQL command in 1109.104 seconds, affected 42340705 rows.\n"
     ]
    }
   ],
   "source": [
    "send_sql(conn, \"DROP TABLE IF EXISTS landuse_boundary_lines;\")\n",
    "sql = \"\"\"CREATE TABLE landuse_boundary_lines AS\n",
    "SELECT\n",
    "    ST_Boundary(geom) AS geom,\n",
    "    ST_Length(ST_Boundary(geom)::geography) AS length,\n",
    "    ST_NPoints(geom) AS node_count,\n",
    "    ST_Area(geom::geography) AS area_size,\n",
    "    area_id,\n",
    "    feature,\n",
    "    tags\n",
    "  FROM land;\n",
    "\"\"\"\n",
    "send_sql(conn, sql) # Baden-Württemberg 15 seconds, Germany: 118 seconds\n",
    "#send_sql(conn, \"CREATE INDEX landuse_boundary_lines_length_idx ON landuse_boundary_lines USING btree(length);\")\n",
    "#send_sql(conn, \"CREATE INDEX landuse_boundary_lines_node_count_idx ON landuse_boundary_lines USING btree(node_count);\")\n",
    "#send_sql(conn, \"CREATE INDEX landuse_boundary_lines_area_size_idx ON landuse_boundary_lines USING btree(area_size);\")"
   ]
  },
  {
   "cell_type": "markdown",
   "id": "38",
   "metadata": {},
   "source": [
    "Find polygons with long boundary but small area size:"
   ]
  },
  {
   "cell_type": "code",
   "execution_count": 24,
   "id": "39",
   "metadata": {},
   "outputs": [],
   "source": [
    "sql = '''SELECT\n",
    "      area_id,\n",
    "      feature,\n",
    "      (sqrt(area_size)/length) AS size_length_ratio,\n",
    "      area_size\n",
    "    FROM landuse_boundary_lines\n",
    "  ORDER BY size_length_ratio ASC NULLS LAST;\n",
    "'''"
   ]
  },
  {
   "cell_type": "markdown",
   "id": "40",
   "metadata": {},
   "source": [
    "Find polygons with many nodes per boundary length:"
   ]
  },
  {
   "cell_type": "code",
   "execution_count": 25,
   "id": "41",
   "metadata": {},
   "outputs": [],
   "source": [
    "sql = '''SELECT\n",
    "        area_id,\n",
    "        feature,\n",
    "        area_size,\n",
    "        (length/node_count::REAL) AS length_by_nodes,\n",
    "        length,\n",
    "        node_count\n",
    "      FROM landuse_boundary_lines\n",
    "      ORDER BY length_by_nodes ASC NULLS LAST;\n",
    "'''"
   ]
  },
  {
   "cell_type": "markdown",
   "id": "42",
   "metadata": {},
   "source": [
    "Unfortunately, the result is a bit worthless. The lowest ratio of length and node count is found at small circular areas (less than 1 m²). The largest ratio is found at rectangular forests (or rectangular grass areas on airports). This is not interesting."
   ]
  },
  {
   "cell_type": "code",
   "execution_count": 26,
   "id": "43",
   "metadata": {},
   "outputs": [],
   "source": [
    "sql = '''SELECT\n",
    "        area_id,\n",
    "        feature,\n",
    "        area_size,\n",
    "        (node_count::REAL/area) AS nodes_per_area,\n",
    "        length,\n",
    "        node_count\n",
    "      FROM landuse_boundary_lines\n",
    "      ORDER BY length_by_nodes ASC NULLS LAST;\n",
    "'''"
   ]
  },
  {
   "cell_type": "markdown",
   "id": "44",
   "metadata": {},
   "source": [
    "The ratio of node count and area size does not return better results. The top and bottom entries of the list are almost identical."
   ]
  },
  {
   "cell_type": "markdown",
   "id": "45",
   "metadata": {},
   "source": [
    "Grid cells with many/few nodes per area:"
   ]
  },
  {
   "cell_type": "code",
   "execution_count": 27,
   "id": "46",
   "metadata": {},
   "outputs": [
    {
     "name": "stdout",
     "output_type": "stream",
     "text": [
      "Executed SQL command in 483.596 seconds.\n",
      "Executed SQL command in 0.001 seconds.\n",
      "Executed SQL command in 2210.327 seconds, affected 71957 rows.\n"
     ]
    }
   ],
   "source": [
    "send_sql(conn, \"CREATE INDEX IF NOT EXISTS landuse_boundary_lines_geom_idx ON landuse_boundary_lines USING gist(geom);\")\n",
    "send_sql(conn, \"DROP TABLE IF EXISTS nodes_per_grid_cell;\")\n",
    "sql = '''CREATE TABLE nodes_per_grid_cell AS\n",
    "SELECT\n",
    "    cell_id,\n",
    "    node_count/(ST_Area(area::geography) / 10000) AS nodes_per_area\n",
    "  FROM (\n",
    "    SELECT\n",
    "        c.id AS cell_id,\n",
    "        SUM(ST_NPoints(ST_Intersection(c.geom, b.geom))) AS node_count,\n",
    "        c.geom AS area\n",
    "      FROM grid_cells AS c\n",
    "      JOIN landuse_boundary_lines AS b\n",
    "        ON\n",
    "          c.geom && b.geom\n",
    "          AND ST_Intersects(c.geom, b.geom)\n",
    "          -- ST_Relate makes queries slower.\n",
    "          -- AND ST_Relate(c.geom, b.geom, 'T********')\n",
    "      GROUP BY c.id, area\n",
    "  ) AS a\n",
    "  ORDER BY node_count DESC NULLS LAST;\n",
    "'''\n",
    "send_sql(conn, sql) # Baden-Württemberg: 27 seconds, Germany: 73 seconds"
   ]
  },
  {
   "cell_type": "markdown",
   "id": "47",
   "metadata": {},
   "source": [
    "**TODO**\n",
    "\n",
    "* determine node count per area and per boundary length, its distribution and differences between municipalities\n",
    "* clip landuse boundaries to municipal polygons\n",
    "* determine ratio of sqrt(area size) to boundary length, its distribution and differences between municipalities"
   ]
  },
  {
   "cell_type": "markdown",
   "id": "48",
   "metadata": {},
   "source": [
    "## Multipolygons vs. simple polygons\n",
    "\n",
    "Get the number of multipolygons vs. simple polygons for all feature classes:"
   ]
  },
  {
   "cell_type": "code",
   "execution_count": 28,
   "id": "49",
   "metadata": {},
   "outputs": [
    {
     "name": "stdout",
     "output_type": "stream",
     "text": [
      "Executed SQL command in 594.275 seconds, affected 1753 rows.\n"
     ]
    }
   ],
   "source": [
    "sql = \"\"\"DROP TABLE IF EXISTS multipolygon_landuse_stats;\n",
    "-- We have to use landuse_by_cell as source because we do not want to include polygons outside of Germany.\n",
    "CREATE INDEX IF NOT EXISTS landuse_by_cell_id_feature ON landuse_by_cell USING btree(area_id, feature);\n",
    "CREATE TABLE multipolygon_landuse_stats AS\n",
    "SELECT\n",
    "    feature,\n",
    "    COUNT(landuse_id) AS feature_count,\n",
    "    (landuse_id < 0) AS is_multipolygon,\n",
    "    SUM(area_size) AS area_size\n",
    "  FROM (\n",
    "    SELECT\n",
    "        area_id AS landuse_id,\n",
    "        feature,\n",
    "        SUM(ST_Area(geom::geography)) AS area_size\n",
    "      FROM landuse_by_cell\n",
    "      GROUP BY landuse_id, feature\n",
    "    ) AS a\n",
    "  GROUP BY feature, (landuse_id < 0);\n",
    "\"\"\"\n",
    "send_sql(conn, sql) # Baden-Württemberg: 9 seconds, Germany: 73 seconds"
   ]
  },
  {
   "cell_type": "code",
   "execution_count": 29,
   "id": "50",
   "metadata": {},
   "outputs": [
    {
     "name": "stdout",
     "output_type": "stream",
     "text": [
      "Executed SQL command in 0.009 seconds, affected 1753 rows.\n"
     ]
    },
    {
     "data": {
      "image/png": "[encoded data removed]",
      "text/plain": [
       "<Figure size 830x490 with 1 Axes>"
      ]
     },
     "metadata": {},
     "output_type": "display_data"
    }
   ],
   "source": [
    "results = send_sql(\n",
    "    conn,\n",
    "    \"SELECT feature, is_multipolygon, feature_count FROM multipolygon_landuse_stats ORDER BY feature, is_multipolygon;\",\n",
    "    return_result=True)\n",
    "interesting_feature_classes = [\"farmland\", \"forest\", \"residential\", \"water\", \"meadow\", \"orchard\"]\n",
    "results = [row for row in results if row[0] in interesting_feature_classes]\n",
    "all_feature_count = sum([row[2] for row in results])\n",
    "mp_feature_count = sum([row[2] for row in results if row[1]])\n",
    "values = [[0, 0] for x in range(len(interesting_feature_classes))]\n",
    "for i in range(len(interesting_feature_classes)):\n",
    "    fclass = interesting_feature_classes[i]\n",
    "    for row in results:\n",
    "        if fclass != row[0]:\n",
    "            continue\n",
    "        if row[1]:\n",
    "            values[i][1] = row[2]\n",
    "        else:\n",
    "            values[i][0] = row[2]\n",
    "fig, ax = plt.subplots(figsize=figsize_in(830, 490))\n",
    "fractions = [v[1] / (v[0] + v[1]) for v in values]\n",
    "classes = interesting_feature_classes + ['all']\n",
    "fractions.append(mp_feature_count / all_feature_count)\n",
    "fractions = [f * 100 for f in fractions]\n",
    "ax.bar(classes, fractions)\n",
    "fig.subplots_adjust(bottom=0.15)\n",
    "plt.xticks(rotation=22, ha='right')\n",
    "#ax.set_title('Anteil Multipolygone pro Featureklasse [%]')\n",
    "ax.set_ylabel('%')\n",
    "plt.show()\n",
    "fig.savefig('talk/plots/multipolygons_vs_simple_polygons_bar.svg', facecolor='white')"
   ]
  },
  {
   "cell_type": "markdown",
   "id": "51",
   "metadata": {},
   "source": [
    "Make statistics about multipolygon usage per feature class:"
   ]
  },
  {
   "cell_type": "code",
   "execution_count": 30,
   "id": "52",
   "metadata": {},
   "outputs": [
    {
     "name": "stdout",
     "output_type": "stream",
     "text": [
      "Executed SQL command in 0.000 seconds.\n",
      "Executed SQL command in 177.205 seconds, affected 2721003 rows.\n"
     ]
    }
   ],
   "source": [
    "send_sql(conn, \"DROP TABLE IF EXISTS multipolygon_landuse;\")\n",
    "sql = \"\"\"CREATE TABLE multipolygon_landuse AS\n",
    "SELECT\n",
    "    geom,\n",
    "    area_id,\n",
    "    COUNT(1) AS outer_rings,\n",
    "    SUM(ST_NumInteriorRing(dumped_geom)) AS inner_rings,\n",
    "    mp_outer_way_count,\n",
    "    feature,\n",
    "    tags\n",
    "  FROM (\n",
    "    SELECT\n",
    "        geom,\n",
    "        area_id,\n",
    "        (ST_Dump(geom)).geom AS dumped_geom,\n",
    "        mp_outer_way_count,\n",
    "        feature,\n",
    "        tags\n",
    "      FROM land\n",
    "      WHERE area_id < 0\n",
    "    ) AS a\n",
    "  GROUP BY area_id, mp_outer_way_count, feature, tags, geom;\n",
    "\"\"\"\n",
    "send_sql(conn, sql) # Baden-Württemberg: 1 second"
   ]
  },
  {
   "cell_type": "markdown",
   "id": "53",
   "metadata": {},
   "source": [
    "Unnecessary multipolygon per municipality:"
   ]
  },
  {
   "cell_type": "code",
   "execution_count": 31,
   "id": "54",
   "metadata": {},
   "outputs": [
    {
     "name": "stdout",
     "output_type": "stream",
     "text": [
      "Executed SQL command in 0.001 seconds.\n",
      "Executed SQL command in 505.034 seconds, affected 1979451 rows.\n",
      "Executed SQL command in 2.377 seconds.\n"
     ]
    }
   ],
   "source": [
    "send_sql(conn, \"DROP TABLE IF EXISTS unnecessary_multipolygons_per_municipality;\")\n",
    "sql = \"\"\"CREATE TABLE unnecessary_multipolygons_per_municipality AS\n",
    "SELECT\n",
    "    ST_CollectionExtract(ST_Intersection(c.geom, m.geom), 3) AS geom,\n",
    "    m.feature AS feature,\n",
    "    m.outer_rings AS outer_rings,\n",
    "    m.inner_rings AS inner_rings,\n",
    "    m.mp_outer_way_count AS outer_way_count,\n",
    "    m.tags AS tags,\n",
    "    c.id AS cell_id,\n",
    "    m.area_id AS multipolygon_id\n",
    "  FROM multipolygon_landuse AS m\n",
    "  JOIN grid_cells AS c\n",
    "    ON\n",
    "      c.geom && m.geom\n",
    "      AND ST_Intersects(c.geom, m.geom)\n",
    "      AND ST_Relate(c.geom, m.geom, 'T********')\n",
    "      AND (\n",
    "        (m.outer_rings > 1 AND NOT m.tags?'name')\n",
    "        OR (m.mp_outer_way_count > 1 AND m.outer_rings = 1)\n",
    "      );\n",
    "\"\"\"\n",
    "send_sql(conn, sql) # Baden-Württemberg: 2 seconds\n",
    "send_sql(conn, \"CREATE INDEX IF NOT EXISTS unnecessary_multipolygons_per_municipality_city_id ON unnecessary_multipolygons_per_municipality USING BTREE(cell_id);\")"
   ]
  },
  {
   "cell_type": "markdown",
   "id": "55",
   "metadata": {},
   "source": [
    "Create table to store base values for the multipolygonitis score calculation:"
   ]
  },
  {
   "cell_type": "code",
   "execution_count": 32,
   "id": "56",
   "metadata": {},
   "outputs": [
    {
     "name": "stdout",
     "output_type": "stream",
     "text": [
      "Executed SQL command in 0.001 seconds.\n",
      "Executed SQL command in 1608.344 seconds, affected 73944 rows.\n",
      "Executed SQL command in 0.366 seconds.\n"
     ]
    }
   ],
   "source": [
    "send_sql(conn, \"DROP TABLE IF EXISTS multipolygonitis_score;\")\n",
    "sql = \"\"\"CREATE TABLE multipolygonitis_score AS\n",
    "SELECT\n",
    "    SUM(ST_Area(l.geom::geography)) AS landuse_area,\n",
    "    COUNT(l.geom) AS landuse_count,\n",
    "    a.multipolygon_area AS multipolygon_area,\n",
    "    a.multipolygon_count AS multipolygon_count,\n",
    "    a.cell_id AS cell_id,\n",
    "    a.cell_area AS cell_area,\n",
    "    a.cell_geom AS cell_geom\n",
    "  FROM (\n",
    "    SELECT\n",
    "      SUM(ST_Area(m.geom::geography)) AS multipolygon_area,\n",
    "      COUNT(m.geom) AS multipolygon_count,\n",
    "      c.id AS cell_id,\n",
    "      ST_Area(c.geom::geography) AS cell_area,\n",
    "      c.geom AS cell_geom\n",
    "    FROM grid_cells AS c\n",
    "    LEFT OUTER JOIN unnecessary_multipolygons_per_municipality AS m\n",
    "      ON m.cell_id = c.id\n",
    "    GROUP BY c.id, c.geom\n",
    "  ) AS a\n",
    "  LEFT OUTER JOIN landuse_by_cell AS l\n",
    "    ON l.cell_id = a.cell_id\n",
    "  GROUP BY a.cell_id, a.multipolygon_area, a.cell_area, a.multipolygon_count, a.cell_geom;\n",
    "\"\"\"\n",
    "send_sql(conn, sql) # Baden-Württemberg: 22 seconds\n",
    "send_sql(conn, \"CREATE INDEX IF NOT EXISTS multipolygonitis_score_geom_idx ON multipolygonitis_score USING gist(cell_geom);\")"
   ]
  },
  {
   "cell_type": "markdown",
   "id": "57",
   "metadata": {},
   "source": [
    "Create a histogram of the distribution of unnecessary multipolygons:"
   ]
  },
  {
   "cell_type": "code",
   "execution_count": 33,
   "id": "58",
   "metadata": {},
   "outputs": [
    {
     "name": "stdout",
     "output_type": "stream",
     "text": [
      "Executed SQL command in 0.054 seconds, affected 72245 rows.\n"
     ]
    },
    {
     "data": {
      "image/png": "[encoded data removed]",
      "text/plain": [
       "<Figure size 850x480 with 1 Axes>"
      ]
     },
     "metadata": {},
     "output_type": "display_data"
    }
   ],
   "source": [
    "sql = \"\"\"SELECT\n",
    "    multipolygon_count::REAL/landuse_count::REAL AS ml\n",
    "  FROM multipolygonitis_score\n",
    "  WHERE landuse_count > 0;\n",
    "\"\"\"\n",
    "result = send_sql(conn, sql, return_result=True)\n",
    "fig, ax = plt.subplots(figsize=figsize_in(850, 480))\n",
    "dist = [row[0]*100 for row in result]\n",
    "ax.hist(dist, bins=80)\n",
    "ax.set_xlabel('unnecessary multipolygons per landuse polygon [%]')\n",
    "ax.set_ylabel('number of cells')\n",
    "fig.subplots_adjust(bottom=0.20)\n",
    "ax.set_xlim(0.0, max(dist))\n",
    "#ax.set_title('Verteilung des Multipolygonitis-Scores über die Gemeinden')\n",
    "plt.show()\n",
    "fig.savefig('talk/plots/multipolygonitis_histogram.svg', facecolor='white')"
   ]
  },
  {
   "cell_type": "markdown",
   "id": "59",
   "metadata": {},
   "source": [
    "## Road segments which are used by landuse polygons"
   ]
  },
  {
   "cell_type": "markdown",
   "id": "60",
   "metadata": {},
   "source": [
    "Get boundary lines of all landuse polygons:"
   ]
  },
  {
   "cell_type": "code",
   "execution_count": 45,
   "id": "61",
   "metadata": {},
   "outputs": [
    {
     "name": "stdout",
     "output_type": "stream",
     "text": [
      "Executed SQL command in 243.689 seconds, affected 42340705 rows.\n",
      "Executed SQL command in 472.363 seconds.\n",
      "Executed SQL command in 17.283 seconds.\n"
     ]
    }
   ],
   "source": [
    "sql = '''\n",
    "DROP TABLE IF EXISTS landuse_boundaries;\n",
    "CREATE TABLE landuse_boundaries AS\n",
    "  SELECT\n",
    "      ST_CollectionExtract(ST_SnapToGrid(ST_Boundary(geom), %s), 2) AS geom,\n",
    "      area_id,\n",
    "      feature,\n",
    "      tags\n",
    "    FROM land;\n",
    "'''\n",
    "send_sql(conn, sql, args=(snapping_resolution,)) # 244 seconds for Europe\n",
    "send_sql(conn, \"CREATE INDEX landuse_boundaries_geom_idx ON landuse_boundaries USING gist(geom);\") # 472 seconds for Europe\n",
    "send_sql(conn, \"CREATE INDEX landuse_boundaries_id_idx ON landuse_boundaries USING btree(area_id);\")"
   ]
  },
  {
   "cell_type": "markdown",
   "id": "62",
   "metadata": {},
   "source": [
    "Get intersection of these boundary lines with other landuse boundary lines:"
   ]
  },
  {
   "cell_type": "code",
   "execution_count": 35,
   "id": "63",
   "metadata": {
    "scrolled": true
   },
   "outputs": [
    {
     "name": "stdout",
     "output_type": "stream",
     "text": [
      "Executed SQL command in 14012.335 seconds, affected 50343513 rows.\n"
     ]
    }
   ],
   "source": [
    "sql = '''\n",
    "DROP TABLE IF EXISTS landuse_landuse_boundaries;\n",
    "CREATE TABLE landuse_landuse_boundaries AS\n",
    "SELECT\n",
    "    ST_CollectionExtract(ST_Intersection(l1.geom, l2.geom), 2) AS geom,\n",
    "    l1.feature AS feature1,\n",
    "    l2.feature AS feature2,\n",
    "    l1.area_id AS land_id1,\n",
    "    l2.area_id AS land_id2,\n",
    "    l1.tags AS tags1,\n",
    "    l2.tags As tags2\n",
    "  FROM landuse_boundaries AS l1\n",
    "  JOIN landuse_boundaries AS l2\n",
    "    -- Ensures that we do not get any duplicates.\n",
    "    -- Using < instead of <> because this makes use of the index.\n",
    "    ON l1.area_id < l2.area_id\n",
    "    AND l1.geom && l2.geom\n",
    "    AND ST_Intersects(l1.geom, l2.geom)\n",
    "    -- Not using ST_Relate makes the query faster.\n",
    "    -- AND ST_Relate(l1.geom, l2.geom, '1********');\n",
    "'''\n",
    "send_sql(conn, sql) # Baden-Württemberg: 171 seconds, Europe: 14012 seconds"
   ]
  },
  {
   "cell_type": "markdown",
   "id": "a256f28a-bbc2-46b4-8e4a-dda52d01ffcd",
   "metadata": {},
   "source": [
    "Create a table for snapped geometries of roads:"
   ]
  },
  {
   "cell_type": "code",
   "execution_count": 69,
   "id": "dd6542e4-252c-4308-ac03-a641347031d5",
   "metadata": {},
   "outputs": [
    {
     "name": "stdout",
     "output_type": "stream",
     "text": [
      "Executed SQL command in 107.422 seconds, affected 83147119 rows.\n",
      "Executed SQL command in 919.313 seconds.\n"
     ]
    }
   ],
   "source": [
    "#sql = \"\"\"\n",
    "#DROP TABLE IF EXISTS streets_snapped;\n",
    "#CREATE TABLE streets_snapped AS\n",
    "#SELECT\n",
    "#    way_id,\n",
    "#    highway,\n",
    "#    railway,\n",
    "#    ST_SnapToGrid(geom, %s) AS geom\n",
    "#  FROM streets;\n",
    "#\"\"\"\n",
    "#send_sql(conn, sql, args=(snapping_resolution,)) # Europe: 107 seconds\n",
    "#send_sql(conn, \"CREATE INDEX IF NOT EXISTS streets_snapped_geom ON streets_snapped USING gist(geom);\") # Europe: 919 seconds"
   ]
  },
  {
   "cell_type": "markdown",
   "id": "64",
   "metadata": {},
   "source": [
    "Find landuse polygons sharing their boundary with roads."
   ]
  },
  {
   "cell_type": "code",
   "execution_count": 15,
   "id": "65",
   "metadata": {},
   "outputs": [
    {
     "name": "stdout",
     "output_type": "stream",
     "text": [
      "Executed SQL command in 235.798 seconds, affected 44282585 rows.\n",
      "Executed SQL command in 505.229 seconds.\n",
      "Executed SQL command in 5176.536 seconds, affected 2436291 rows.\n"
     ]
    }
   ],
   "source": [
    "sql = \"\"\"\n",
    "DROP TABLE IF EXISTS landuse_boundaries_unsnapped;\n",
    "CREATE TABLE landuse_boundaries_unsnapped AS\n",
    "SELECT\n",
    "    ST_Boundary(geom) AS geom,\n",
    "    area_id,\n",
    "    feature,\n",
    "    tags\n",
    "  FROM landuse_by_cell;\n",
    "\"\"\"\n",
    "send_sql(conn, sql) # Europe: 236s\n",
    "send_sql(conn, \"CREATE INDEX IF NOT EXISTS landuse_boundaries_unsnapped_geom ON landuse_boundaries_unsnapped USING gist(geom)\") # Europe: 505 seconds\n",
    "sql = '''\n",
    "DROP TABLE IF EXISTS landuse_boundaries_on_roads;\n",
    "CREATE TABLE landuse_boundaries_on_roads AS\n",
    "SELECT\n",
    "    ST_CollectionExtract(\n",
    "      ST_Intersection(\n",
    "        l.geom,\n",
    "        r.geom\n",
    "      ),\n",
    "    2) AS geom,\n",
    "    l.feature AS land_feature,\n",
    "    l.area_id AS land_id,\n",
    "    COALESCE(r.highway, r.railway) AS road_feature,\n",
    "    r.way_id AS road_id\n",
    "  -- It is faster to use landuse_by_cell than landuse table (137 instead of 180 seconds for Baden-Württemberg).\n",
    "  FROM landuse_boundaries_unsnapped AS l\n",
    "  JOIN streets AS r ON l.geom && r.geom AND ST_Intersects(l.geom, r.geom) AND ST_Relate(l.geom, r.geom, '1********');\n",
    "'''\n",
    "send_sql(conn, sql) # Baden-Württemberg: 137 seconds, Germany: 794 seconds, Europe: 5176 seconds"
   ]
  },
  {
   "cell_type": "markdown",
   "id": "66",
   "metadata": {},
   "source": [
    "The table `landuse_boundaries_on_roads` contains duplicates if a road segment belongs to two landuse polygons. They are de-duplicated now:"
   ]
  },
  {
   "cell_type": "code",
   "execution_count": 16,
   "id": "67",
   "metadata": {},
   "outputs": [
    {
     "name": "stdout",
     "output_type": "stream",
     "text": [
      "Executed SQL command in 41.041 seconds, affected 1124604 rows.\n"
     ]
    }
   ],
   "source": [
    "sql = '''\n",
    "DROP TABLE IF EXISTS roads_as_landuse_boundaries;\n",
    "CREATE INDEX IF NOT EXISTS landuse_boundaries_on_roads_road_id_feature ON landuse_boundaries_on_roads USING btree(road_id, road_feature);\n",
    "CREATE TABLE roads_as_landuse_boundaries AS\n",
    "SELECT\n",
    "-- merge geometries of roads with equal ID before we merge intersecting features\n",
    "    ST_CollectionExtract(ST_Union(geom), 2) AS geom,\n",
    "    road_feature,\n",
    "    road_id\n",
    "  FROM landuse_boundaries_on_roads\n",
    "  GROUP BY road_id, road_feature;\n",
    "'''\n",
    "send_sql(conn, sql) # Baden-Württemberg: 4 seconds"
   ]
  },
  {
   "cell_type": "markdown",
   "id": "68",
   "metadata": {},
   "source": [
    "Get a geometry collection of the roads of each municipality.\n",
    "\n",
    "Performance notes:\n",
    "\n",
    "* In the `SELECT` part, `ST_Within` is faster than using `ST_CoveredBy` or `ST_Relate` (saves 25%).\n",
    "* In the `JOIN` condition, not using `ST_Relate(rl.geom, c.geom, '1********')` saves additional 90% of time."
   ]
  },
  {
   "cell_type": "code",
   "execution_count": 49,
   "id": "69",
   "metadata": {},
   "outputs": [
    {
     "name": "stdout",
     "output_type": "stream",
     "text": [
      "Executed SQL command in 0.018 seconds.\n",
      "Executed SQL command in 1231.037 seconds, affected 73944 rows.\n",
      "Executed SQL command in 0.085 seconds.\n",
      "Executed SQL command in 0.415 seconds.\n"
     ]
    }
   ],
   "source": [
    "send_sql(conn, \"DROP TABLE IF EXISTS cells_road_network_length;\")\n",
    "sql = '''CREATE TABLE cells_road_network_length\n",
    "  AS SELECT\n",
    "    COALESCE(ST_Length(\n",
    "      ST_Collect(ST_CollectionExtract(\n",
    "        CASE\n",
    "          WHEN ST_Within(rl.geom, c.geom) THEN rl.geom\n",
    "          ELSE ST_Intersection(rl.geom, c.geom)\n",
    "        END,\n",
    "      2))::geography\n",
    "    ), 0::REAL) AS road_length,\n",
    "    c.id AS cell_id,\n",
    "    c.geom AS cell_geom\n",
    "  FROM grid_cells AS c\n",
    "  LEFT OUTER JOIN streets AS rl\n",
    "    ON c.geom && rl.geom AND ST_Intersects(c.geom, rl.geom)\n",
    "  GROUP BY c.id, c.geom;\n",
    "'''\n",
    "send_sql(conn, sql) # Baden-Württemberg: 26 seconds, Germany: 164 seconds, Europe: 1231 s\n",
    "send_sql(conn, \"CREATE INDEX cells_road_network_length_area_id_idx ON cells_road_network_length USING btree(cell_id);\")\n",
    "send_sql(conn, \"CREATE INDEX cells_road_network_length_geom_idx ON cells_road_network_length USING gist(cell_geom);\")"
   ]
  },
  {
   "cell_type": "markdown",
   "id": "70",
   "metadata": {},
   "source": [
    "Intersect length of this road network per municpality and get a GeometryCollection of all roads per municipality:"
   ]
  },
  {
   "cell_type": "code",
   "execution_count": 17,
   "id": "71",
   "metadata": {},
   "outputs": [
    {
     "name": "stdout",
     "output_type": "stream",
     "text": [
      "Executed SQL command in 6.929 seconds.\n",
      "Executed SQL command in 0.016 seconds.\n",
      "Executed SQL command in 15.566 seconds, affected 73944 rows.\n",
      "Executed SQL command in 0.080 seconds.\n"
     ]
    }
   ],
   "source": [
    "send_sql(conn, \"CREATE INDEX IF NOT EXISTS roads_as_landuse_boundaries_geom_idx ON roads_as_landuse_boundaries USING GIST(geom);\")\n",
    "send_sql(conn, \"DROP TABLE IF EXISTS roads_as_landuse_boundaries_per_cell;\")\n",
    "sql = \"\"\"CREATE TABLE roads_as_landuse_boundaries_per_cell AS\n",
    "SELECT\n",
    "      COALESCE(ST_Collect(\n",
    "        ST_CollectionExtract(\n",
    "          CASE\n",
    "            WHEN ST_Within(rl.geom, c.geom) THEN rl.geom\n",
    "            ELSE ST_Intersection(rl.geom, c.geom)\n",
    "          END,\n",
    "          2)\n",
    "      ), ST_SetSRID(ST_GeometryFromText('LINESTRING EMPTY'), 4326)) AS roads_geom,\n",
    "      c.id AS cell_id,\n",
    "      c.geom AS cell_geom\n",
    "    FROM grid_cells AS c\n",
    "    LEFT OUTER JOIN roads_as_landuse_boundaries AS rl\n",
    "      ON\n",
    "        c.geom && rl.geom\n",
    "        AND ST_Intersects(c.geom, rl.geom)\n",
    "    GROUP BY c.id, c.geom;\n",
    "\"\"\"\n",
    "send_sql(conn, sql) # 1 second for Baden-Württemberg, Europe: 16s\n",
    "send_sql(conn, \"CREATE INDEX IF NOT EXISTS roads_as_landuse_boundaries_per_cell_idx ON roads_as_landuse_boundaries_per_cell USING btree(cell_id);\")"
   ]
  },
  {
   "cell_type": "markdown",
   "id": "72",
   "metadata": {},
   "source": [
    "Do the same for landuse boundaries on roads (if a road is used by two neighbouring landuse polygons, it will appear twice):"
   ]
  },
  {
   "cell_type": "code",
   "execution_count": 18,
   "id": "73",
   "metadata": {},
   "outputs": [
    {
     "name": "stdout",
     "output_type": "stream",
     "text": [
      "Executed SQL command in 19.564 seconds.\n",
      "Executed SQL command in 0.016 seconds.\n",
      "Executed SQL command in 19.268 seconds, affected 73944 rows.\n",
      "Executed SQL command in 0.079 seconds.\n"
     ]
    }
   ],
   "source": [
    "send_sql(conn, \"CREATE INDEX IF NOT EXISTS landuse_boundaries_on_roads_geom_idx ON landuse_boundaries_on_roads USING GIST(geom);\")\n",
    "send_sql(conn, \"DROP TABLE IF EXISTS landuse_boundaries_on_roads_per_cell;\")\n",
    "sql = \"\"\"CREATE TABLE landuse_boundaries_on_roads_per_cell AS\n",
    "SELECT\n",
    "      COALESCE(ST_Collect(\n",
    "        ST_CollectionExtract(\n",
    "          CASE\n",
    "            WHEN ST_Within(rl.geom, c.geom) THEN rl.geom\n",
    "            ELSE ST_Intersection(rl.geom, c.geom)\n",
    "          END,\n",
    "          2)\n",
    "      ), ST_SetSRID(ST_GeometryFromText('LINESTRING EMPTY'), 4326)) AS roads_geom,\n",
    "      c.id AS cell_id,\n",
    "      c.geom AS cell_geom\n",
    "    FROM grid_cells AS c\n",
    "    LEFT OUTER JOIN landuse_boundaries_on_roads AS rl\n",
    "      ON\n",
    "        c.geom && rl.geom\n",
    "        AND ST_Intersects(c.geom, rl.geom)\n",
    "    GROUP BY c.id, c.geom;\n",
    "\"\"\"\n",
    "send_sql(conn, sql) # 2 seconds for Baden-Württemberg, Europe: 19s\n",
    "send_sql(conn, \"CREATE INDEX IF NOT EXISTS landuse_boundaries_on_roads_per_cell_idx ON landuse_boundaries_on_roads_per_cell USING btree(cell_id);\")"
   ]
  },
  {
   "cell_type": "code",
   "execution_count": 19,
   "id": "5a825dcd-2244-4814-bed7-fd0bfa5b5a83",
   "metadata": {},
   "outputs": [
    {
     "name": "stdout",
     "output_type": "stream",
     "text": [
      "Executed SQL command in 1994.541 seconds, affected 71955 rows.\n",
      "Executed SQL command in 13.621 seconds.\n",
      "Executed SQL command in 0.086 seconds.\n"
     ]
    }
   ],
   "source": [
    "sql = '''\n",
    "DROP TABLE IF EXISTS landuse_boundaries_per_cell;\n",
    "CREATE TABLE landuse_boundaries_per_cell\n",
    "  AS SELECT\n",
    "    COALESCE(ST_Collect(\n",
    "      ST_CollectionExtract(\n",
    "        CASE\n",
    "          WHEN ST_Within(l.geom, c.geom) THEN l.geom\n",
    "          ELSE ST_Intersection(l.geom, c.geom)\n",
    "        END,\n",
    "        2)\n",
    "    ), ST_SetSRID(ST_GeometryFromText('LINESTRING EMPTY'), 4326)) AS geom,\n",
    "    c.id AS cell_id,\n",
    "    c.geom AS cell_geom\n",
    "  FROM grid_cells AS c\n",
    "  JOIN landuse_boundaries AS l ON c.geom && l.geom AND ST_Intersects(c.geom, l.geom)\n",
    "  GROUP BY c.id, c.geom;\n",
    "'''\n",
    "send_sql(conn, sql) # 23 seconds for Baden-Württemberg, Germany: 163 seconds, Europe: 1994s\n",
    "send_sql(conn, \"CREATE INDEX IF NOT EXISTS landuse_boundaries_per_cell_geom_idx ON landuse_boundaries_per_cell USING gist(geom);\")\n",
    "send_sql(conn, \"CREATE INDEX IF NOT EXISTS landuse_boundaries_per_cell_id_idx ON landuse_boundaries_per_cell USING btree(cell_id);\")"
   ]
  },
  {
   "cell_type": "markdown",
   "id": "74",
   "metadata": {},
   "source": [
    "Determine per cell how large the proportion of landuse boundaries glued to roads compared to all roads is."
   ]
  },
  {
   "cell_type": "code",
   "execution_count": 21,
   "id": "76",
   "metadata": {},
   "outputs": [
    {
     "name": "stdout",
     "output_type": "stream",
     "text": [
      "Executed SQL command in 0.023 seconds.\n",
      "Executed SQL command in 2399.348 seconds, affected 69008 rows.\n",
      "Executed SQL command in 0.367 seconds.\n"
     ]
    }
   ],
   "source": [
    "send_sql(conn, \"DROP TABLE IF EXISTS roads_landuse_boundary_fraction_per_cell;\")\n",
    "sql = \"\"\"CREATE TABLE roads_landuse_boundary_fraction_per_cell AS\n",
    "SELECT\n",
    "    CASE WHEN landuse_boundary_length = 0.0 THEN 0.0\n",
    "      ELSE landuse_boundaries_on_roads_length / landuse_boundary_length\n",
    "    END AS landuse_boundaries_on_roads_fraction,\n",
    "    landuse_boundaries_on_roads_length AS landuse_boundaries_on_roads,\n",
    "    landuse_boundary_length,\n",
    "    CASE WHEN road_network_length = 0.0 THEN 0.0\n",
    "      ELSE roads_as_landuse_boundary_length / road_network_length\n",
    "    END AS roads_as_landuse_boundary_fraction,\n",
    "    roads_as_landuse_boundary_length,\n",
    "    road_network_length,\n",
    "    coverage_fraction,\n",
    "    cell_id,\n",
    "    cell_geom\n",
    "FROM (\n",
    "  SELECT\n",
    "    COALESCE(ST_Length(br.roads_geom::geography), 0.0) AS landuse_boundaries_on_roads_length,\n",
    "    COALESCE(ST_Length(b.geom::geography), 0.0) AS landuse_boundary_length,\n",
    "    COALESCE(ST_Length(rb.roads_geom::geography), 0.0) AS roads_as_landuse_boundary_length,\n",
    "    c.road_length AS road_network_length,\n",
    "    cov.area_size/cov.cell_area AS coverage_fraction,\n",
    "    c.cell_id AS cell_id,\n",
    "    c.cell_geom AS cell_geom\n",
    "  FROM cells_road_network_length AS c\n",
    "  LEFT OUTER JOIN roads_as_landuse_boundaries_per_cell AS rb\n",
    "    ON rb.cell_id = c.cell_id\n",
    "  LEFT OUTER JOIN landuse_boundaries_per_cell AS b\n",
    "    ON b.cell_id = c.cell_id\n",
    "  LEFT OUTER JOIN landuse_boundaries_on_roads_per_cell AS br\n",
    "    ON br.cell_id = c.cell_id\n",
    "  LEFT OUTER JOIN landuse_coverage_per_cell AS cov\n",
    "    ON cov.cell_id = c.cell_id\n",
    "  WHERE c.road_length > 0.0\n",
    "  ) AS a;\n",
    "\"\"\"\n",
    "send_sql(conn, sql) # 57 seconds for Baden-Württemberg, Germany: 282 seconds, Europe: 2399s\n",
    "send_sql(conn, \"CREATE INDEX IF NOT EXISTS roads_landuse_boundary_fraction_per_cell_geom_idx ON roads_landuse_boundary_fraction_per_cell USING gist(cell_geom);\")"
   ]
  },
  {
   "cell_type": "markdown",
   "id": "77",
   "metadata": {},
   "source": [
    "Plot a few histograms:"
   ]
  },
  {
   "cell_type": "code",
   "execution_count": null,
   "id": "78",
   "metadata": {},
   "outputs": [],
   "source": [
    "result = send_sql(conn, \"SELECT landuse_boundaries_on_roads_fraction FROM roads_landuse_boundary_fraction_per_cell WHERE road_network_length > 0.0;\", return_result=True)\n",
    "fig, ax = plt.subplots(figsize=figsize_in(850, 480))\n",
    "dist = [row[0]*100 for row in result]\n",
    "ax.hist(dist, bins=80)\n",
    "ax.set_xlabel('fraction of length sharing nodes [%]')\n",
    "ax.set_title('Landuse boundaries sharing nodes with roads')\n",
    "ax.set_ylabel('number of cells')\n",
    "ax.set_xlim(0.0, max(dist))\n",
    "plt.show()\n",
    "fig.savefig('talk/plots/sticky_landuse_of_landuse_histogram.svg', facecolor='white')"
   ]
  },
  {
   "cell_type": "markdown",
   "id": "79",
   "metadata": {},
   "source": [
    "Determine per cell how large the proportion of landuse boundaries glued to other landuse boundaries compared to all landuse boundaries is."
   ]
  },
  {
   "cell_type": "code",
   "execution_count": 23,
   "id": "80",
   "metadata": {},
   "outputs": [
    {
     "name": "stdout",
     "output_type": "stream",
     "text": [
      "Executed SQL command in 0.001 seconds.\n",
      "Executed SQL command in 1049.092 seconds, affected 73944 rows.\n",
      "Executed SQL command in 0.173 seconds.\n",
      "Executed SQL command in 0.071 seconds.\n",
      "Executed SQL command in 1793.120 seconds, affected 73944 rows.\n"
     ]
    }
   ],
   "source": [
    "send_sql(conn, \"CREATE INDEX IF NOT EXISTS landuse_landuse_boundaries_geom_idx ON landuse_landuse_boundaries USING gist(geom);\")\n",
    "#sql = \"\"\"\n",
    "#DROP TABLE IF EXISTS landuse_boundaries_per_city;\n",
    "#CREATE TABLE landuse_boundaries_per_city AS\n",
    "#SELECT\n",
    "#    ST_CollectionExtract(ST_Collect(\n",
    "#      CASE\n",
    "#        WHEN ST_Within(lb.geom, c.geom) THEN lb.geom\n",
    "#        ELSE ST_Intersection(lb.geom, c.geom)\n",
    "#      END\n",
    "#    ), 2) AS geom,\n",
    "#    c.area_id AS city_id\n",
    "#  FROM cities AS c\n",
    "#  LEFT OUTER JOIN landuse_boundaries AS lb\n",
    "#    ON\n",
    "#      c.geom && lb.geom\n",
    "#      AND ST_Intersects(c.geom, lb.geom)\n",
    "#  GROUP BY c.area_id;\n",
    "#\"\"\"\n",
    "#send_sql(conn, sql)\n",
    "sql = \"\"\"\n",
    "DROP TABLE IF EXISTS landuse_landuse_boundaries_per_cell;\n",
    "CREATE TABLE landuse_landuse_boundaries_per_cell AS\n",
    "SELECT\n",
    "    ST_CollectionExtract(ST_Collect(\n",
    "      CASE\n",
    "        WHEN ST_Within(llb.geom, c.geom) THEN llb.geom\n",
    "        ELSE ST_Intersection(llb.geom, c.geom)\n",
    "      END\n",
    "    ), 2) AS geom,\n",
    "    c.id AS cell_id\n",
    "  FROM grid_cells AS c\n",
    "  LEFT OUTER JOIN landuse_landuse_boundaries AS llb\n",
    "    ON\n",
    "      c.geom && llb.geom\n",
    "      AND ST_Intersects(c.geom, llb.geom)\n",
    "  GROUP BY c.id;\n",
    "\"\"\"\n",
    "send_sql(conn, sql) # Baden-Württemberg: 20 seconds, 1049 seconds\n",
    "send_sql(conn, \"CREATE INDEX IF NOT EXISTS landuse_boundaries_per_cell_cell_id ON landuse_boundaries_per_cell USING btree(cell_id);\")\n",
    "send_sql(conn, \"CREATE INDEX IF NOT EXISTS landuse_landuse_boundaries_per_cell_cell_id ON landuse_landuse_boundaries_per_cell USING btree(cell_id);\")\n",
    "sql = \"\"\"DROP TABLE IF EXISTS landuse_landuse_boundary_fraction_per_cell;\n",
    "CREATE TABLE landuse_landuse_boundary_fraction_per_cell AS\n",
    "SELECT\n",
    "    bb_len/b_len AS bounds_fraction,\n",
    "    bb_len AS boundary_boundary_length,\n",
    "    b_len boundary_length,\n",
    "    cell_id,\n",
    "    cell_geom,\n",
    "    coverage_fraction\n",
    "FROM (\n",
    "  SELECT\n",
    "    -- Multiplication by 2 because boundary-boundary intersections were deduplicated in a previous step.\n",
    "    ST_Length(bb.geom::geography) * 2 AS bb_len,\n",
    "    ST_Length(b.geom::geography) AS b_len,\n",
    "    cov.area_size/cov.cell_area AS coverage_fraction,\n",
    "    c.id AS cell_id,\n",
    "    c.geom AS cell_geom\n",
    "  FROM grid_cells AS c\n",
    "  LEFT OUTER JOIN landuse_landuse_boundaries_per_cell AS bb\n",
    "    ON bb.cell_id = c.id\n",
    "  LEFT OUTER JOIN landuse_boundaries_per_cell AS b\n",
    "    ON b.cell_id = c.id\n",
    "  LEFT OUTER JOIN landuse_coverage_per_cell AS cov\n",
    "    ON cov.cell_id = c.id\n",
    "  ) AS a;\n",
    "\"\"\"\n",
    "send_sql(conn, sql) # Baden-Württemberg: 51 seconds, Germany: 202 seconds"
   ]
  },
  {
   "cell_type": "markdown",
   "id": "81",
   "metadata": {},
   "source": [
    "When inspecting the `landuse_landuse_boundary_fraction_per_cell` table, you should keep in mind that cells without almost complete landuse coverage will have high fractions of landuse boundaries not sharing nodes with other landuse boundaries because they have no neighbours."
   ]
  },
  {
   "cell_type": "markdown",
   "id": "82",
   "metadata": {},
   "source": [
    "## Landuse polygons almost touching each other or roads\n",
    "\n",
    "As a first step, we find all landuse boundary line which are not shared with other landuse polygons.\n",
    "Shorten the linestrings and caluclate buffers."
   ]
  },
  {
   "cell_type": "code",
   "execution_count": null,
   "id": "83",
   "metadata": {},
   "outputs": [],
   "source": [
    "#send_sql(conn, \"DROP TABLE IF EXISTS lonely_landuse_boundaries;\")\n",
    "buffer_dist = 0.5\n",
    "sql = \"\"\"DROP TABLE IF EXISTS landuse_boundaries_not_touching_others;\n",
    "CREATE TABLE landuse_boundaries_not_touching_others AS\n",
    "SELECT\n",
    "    ST_Difference(\n",
    "      lb.geom, ST_Collect(COALESCE(llb.geom, ST_SetSRID(ST_GeomFromText('LINESTRING EMPTY'), 4326)))\n",
    "    ) AS geom,\n",
    "    lb.feature AS feature,\n",
    "    lb.area_id AS area_id\n",
    "  FROM landuse_boundaries AS lb\n",
    "  LEFT OUTER JOIN landuse_landuse_boundaries AS llb\n",
    "    ON lb.geom && llb.geom AND ST_Intersects(lb.geom, llb.geom)\n",
    "  GROUP BY lb.area_id, lb.feature, lb.geom;\n",
    "\"\"\"\n",
    "send_sql(conn, sql)\n",
    "send_sql(conn, \"CREATE INDEX landuse_boundaries_not_touching_others_geom ON landuse_boundaries_not_touching_others USING gist(geom);\")\n",
    "sql = \"\"\"DROP TABLE IF EXISTS landuse_boundaries_not_touching_roads_and_landuse;\n",
    "CREATE TABLE landuse_boundaries_not_touching_roads_and_landuse AS\n",
    "SELECT\n",
    "    1.0 / cos(RADIANS(ST_Y(ST_StartPoint(geom)))) AS mercator_factor,\n",
    "    ST_Length(geom::geography) AS length,\n",
    "    geom,\n",
    "    feature,\n",
    "    area_id\n",
    "  FROM (\n",
    "    SELECT\n",
    "        (ST_Dump(\n",
    "          ST_CollectionExtract(\n",
    "            ST_Difference(\n",
    "              c.geom,\n",
    "              ST_Collect(COALESCE(rlb.geom, ST_SetSRID(ST_GeomFromText('LINESTRING EMPTY'), 4326)))\n",
    "            ),\n",
    "          2)\n",
    "        )).geom AS geom,\n",
    "        c.feature AS feature,\n",
    "        c.area_id AS area_id\n",
    "      FROM landuse_boundaries_not_touching_others AS c\n",
    "      LEFT OUTER JOIN roads_as_landuse_boundaries AS rlb\n",
    "        ON c.geom && rlb.geom AND ST_Intersects(c.geom, rlb.geom)\n",
    "      GROUP BY c.area_id, c.feature, c.geom\n",
    "  ) AS d;\n",
    "\"\"\"\n",
    "send_sql(conn, sql)\n",
    "sql = \"\"\"DROP TABLE IF EXISTS lonely_landuse_boundaries;\n",
    "CREATE TABLE lonely_landuse_boundaries AS\n",
    "SELECT\n",
    "    ST_Transform(ST_LineSubstring(geom_3857, cutoff_fraction, 1.0-cutoff_fraction), 4326)::geography AS geog_for_buffer,\n",
    "    geom AS geom,\n",
    "    geom::geography AS geog,\n",
    "    feature,\n",
    "    mercator_factor,\n",
    "    area_id\n",
    "  FROM (\n",
    "    SELECT\n",
    "        -- buffer_dist multiplied by Mercator factor because ST_LineSubString works with Geometry type.\n",
    "        ({} * mercator_factor) / length AS cutoff_fraction,\n",
    "        mercator_factor,\n",
    "        ST_Transform(geom, 3857) AS geom_3857,\n",
    "        geom,\n",
    "        feature,\n",
    "        area_id\n",
    "      FROM landuse_boundaries_not_touching_roads_and_landuse\n",
    "      WHERE length > 5 * {}\n",
    "  ) AS a;\n",
    "\"\"\".format(buffer_dist * 2.0, buffer_dist * 2.0)\n",
    "send_sql(conn, sql)\n",
    "# Baden-Württemberg: 260 seconds, Germany: max. 2211 seconds"
   ]
  },
  {
   "cell_type": "code",
   "execution_count": null,
   "id": "84",
   "metadata": {},
   "outputs": [],
   "source": []
  },
  {
   "cell_type": "markdown",
   "id": "85",
   "metadata": {},
   "source": [
    "Find intersections:"
   ]
  },
  {
   "cell_type": "code",
   "execution_count": null,
   "id": "86",
   "metadata": {},
   "outputs": [],
   "source": [
    "send_sql(conn, \"DROP TABLE IF EXISTS closeby_landuse_intersections;\")\n",
    "send_sql(conn, \"CREATE INDEX IF NOT EXISTS lonely_landuse_boundaries_buffer ON lonely_landuse_boundaries USING gist(geog_for_buffer);\") # BW: 7 seconds\n",
    "send_sql(conn, \"ALTER TABLE streets ADD COLUMN IF NOT EXISTS geog geography; UPDATE streets SET geog = geom::geography WHERE geog IS NULL;\") # BW: 63 seconds\n",
    "sql = \"\"\"CREATE INDEX IF NOT EXISTS streets_geog ON streets USING gist(geog)\n",
    "  WHERE highway IN ('motorway', 'motorway_link', 'trunk', 'trunk_link', 'primary', 'primary_link',\n",
    "      'secondary', 'secondary_link', 'tertiary', 'tertiary_link', 'unclassified', 'residential',\n",
    "      'living_street', 'pedestrian', 'service', 'track', 'busway', 'bus_guideway')\n",
    "    OR railway IN ('rail', 'narrow_gauge', 'tram', 'subway', 'ligh_rail', 'monorail', 'funicular');\n",
    "\"\"\"\n",
    "send_sql(conn, sql) # BW: 28 seconds, Germany: 154 seconds\n",
    "sql = \"\"\"CREATE TABLE closeby_landuse_intersections AS\n",
    "SELECT\n",
    "    ST_CollectionExtract(ST_Intersection(ST_Buffer(a.geog_for_buffer, {buffer_dist})::geometry, b.geom), 2) AS geom,\n",
    "    a.area_id AS id1,\n",
    "    b.area_id AS id2,\n",
    "    a.feature AS feature1,\n",
    "    b.feature AS feature2,\n",
    "    TRUE AS touches_to_landuse\n",
    "  FROM lonely_landuse_boundaries AS a\n",
    "  JOIN lonely_landuse_boundaries AS b\n",
    "    ON ST_DWithin(a.geog_for_buffer, b.geog, {buffer_dist}) AND a.area_id < b.area_id\n",
    "UNION ALL\n",
    "SELECT\n",
    "    ST_CollectionExtract(ST_Intersection(ST_Buffer(a.geog_for_buffer, {buffer_dist})::geometry, r.geom), 2) AS geom,\n",
    "    a.area_id AS id1,\n",
    "    r.way_id AS id2,\n",
    "    a.feature AS feature1,\n",
    "    COALESCE(r.highway, r.railway) AS feature2,\n",
    "    FALSE AS touches_to_landuse\n",
    "  FROM lonely_landuse_boundaries AS a\n",
    "  JOIN streets AS r\n",
    "    ON ST_DWithin(a.geog_for_buffer, r.geog, {buffer_dist})\n",
    "      AND (\n",
    "        r.highway IN ('motorway', 'motorway_link', 'trunk', 'trunk_link', 'primary', 'primary_link',\n",
    "          'secondary', 'secondary_link', 'tertiary', 'tertiary_link', 'unclassified', 'residential',\n",
    "          'living_street', 'pedestrian', 'service', 'track', 'busway', 'bus_guideway')\n",
    "        OR r.railway IN ('rail', 'narrow_gauge', 'tram', 'subway', 'ligh_rail', 'monorail', 'funicular')\n",
    "      );\n",
    "\"\"\".format(buffer_dist=buffer_dist)\n",
    "send_sql(conn, sql) # BW: 437 seconds, Germany: 5272 seconds"
   ]
  },
  {
   "cell_type": "markdown",
   "id": "87",
   "metadata": {},
   "source": [
    "Table of length of boundaries with near-by touches per cell:"
   ]
  },
  {
   "cell_type": "code",
   "execution_count": null,
   "id": "88",
   "metadata": {},
   "outputs": [],
   "source": [
    "send_sql(conn, \"DROP TABLE IF EXISTS closeby_landuse_intersections_per_cell;\")\n",
    "send_sql(conn, \"CREATE INDEX IF NOT EXISTS closeby_landuse_intersections_geom ON closeby_landuse_intersections USING gist(geom);\")\n",
    "send_sql(conn, \"CREATE INDEX IF NOT EXISTS landuse_landuse_boundary_fraction_per_cell_cell_id ON landuse_landuse_boundary_fraction_per_cell USING btree(cell_id);\")\n",
    "sql = \"\"\"CREATE TABLE closeby_landuse_intersections_per_cell AS\n",
    "SELECT\n",
    "    ST_Length(ST_CollectionExtract(ST_Collect(ST_Intersection(i.geom, c.geom)), 2)::geography) AS length,\n",
    "    i.touches_to_landuse AS touches_to_landuse,\n",
    "    llb.boundary_length AS boundary_length,\n",
    "    c.id AS cell_id,\n",
    "    c.geom AS cell_geom\n",
    "  FROM grid_cells AS c\n",
    "  JOIN closeby_landuse_intersections AS i\n",
    "    ON c.geom && i.geom AND ST_Intersects(c.geom, i.geom)\n",
    "  JOIN landuse_landuse_boundary_fraction_per_cell AS llb\n",
    "    ON c.id = llb.cell_id\n",
    "  GROUP BY c.id, i.touches_to_landuse, llb.boundary_length, c.geom;\n",
    "\"\"\"\n",
    "send_sql(conn, sql) # BW: 12 seconds, Germany: 117 seconds"
   ]
  },
  {
   "cell_type": "markdown",
   "id": "89",
   "metadata": {},
   "source": [
    "## Age of landuse polygons\n",
    "\n",
    "**TODO**"
   ]
  },
  {
   "cell_type": "code",
   "execution_count": 34,
   "id": "90",
   "metadata": {},
   "outputs": [
    {
     "name": "stdout",
     "output_type": "stream",
     "text": [
      "Executed SQL command in 0.009 seconds.\n",
      "Executed SQL command in 0.001 seconds.\n",
      "Executed SQL command in 3532.123 seconds, affected 1333186661 rows.\n",
      "Executed SQL command in 15329.063 seconds.\n",
      "Executed SQL command in 446.097 seconds.\n"
     ]
    }
   ],
   "source": [
    "send_sql(conn, \"DROP TABLE IF EXISTS landuse_nodes;\")\n",
    "send_sql(conn, \"CREATE INDEX IF NOT EXISTS land_rel_id_idx ON land USING btree(area_id) WHERE area_id < 0;\")\n",
    "\n",
    "# very slow (I stopped the query after more than 5 minutes)\n",
    "#sql = \"\"\"CREATE TABLE landuse_relation_nodes AS\n",
    "#SELECT\n",
    "#    relways.landuse_id AS landuse_id,\n",
    "#    relways.feature AS feature,\n",
    "#    n.id AS node_id,\n",
    "#    ST_SetSRID(ST_MakePoint(n.lon, n.lat), 4326) AS node_geom,\n",
    "#    n.created AS last_modified,\n",
    "#    n.version AS version\n",
    "#  FROM planet_osm_nodes AS n\n",
    "#  JOIN (\n",
    "#    SELECT\n",
    "#        l.area_id AS landuse_id,\n",
    "#        l.feature AS feature,\n",
    "#        w.id AS way_id,\n",
    "#        w.nodes AS nodes\n",
    "#      FROM land AS l\n",
    "#      JOIN planet_osm_rels AS r ON -l.area_id = r.id AND l.area_id < 0\n",
    "#      JOIN planet_osm_ways AS w ON r.members @> ('[{\"ref\": ' || w.id::TEXT || ', \"type\": \"W\"}]')::jsonb\n",
    "#  ) AS relways ON n.id = ANY(relways.nodes);\n",
    "#\"\"\"\n",
    "sql = \"\"\"CREATE OR REPLACE FUNCTION convert_coord(c INTEGER) RETURNS FLOAT AS $$\n",
    "BEGIN\n",
    "  IF c IS NULL THEN\n",
    "    RETURN NULL;\n",
    "  END IF;\n",
    "  RETURN c::FLOAT * 10.0^(-7);\n",
    "END;\n",
    "$$ LANGUAGE plpgsql STABLE LEAKPROOF PARALLEL SAFE STRICT;\n",
    "\n",
    "CREATE TABLE landuse_nodes AS\n",
    "WITH landuse_relation_nodes AS (\n",
    "SELECT\n",
    "    r.landuse_id AS landuse_id,\n",
    "    r.feature AS feature,\n",
    "    n.id AS node_id,\n",
    "    ST_SetSRID(ST_MakePoint(convert_coord(n.lon), convert_coord(n.lat)), 4326) AS geom,\n",
    "    n.created AS last_modified,\n",
    "    n.version AS version\n",
    "  FROM planet_osm_ways AS w\n",
    "  JOIN (\n",
    "    SELECT\n",
    "        l.area_id AS landuse_id,\n",
    "        l.feature AS feature,\n",
    "        jsonb_path_query(r.members, '($[*] ? (@.type == \"W\")).ref') AS way_id\n",
    "      FROM land AS l\n",
    "      JOIN planet_osm_rels AS r ON -l.area_id = r.id AND l.area_id < 0\n",
    "  ) AS r ON r.way_id::BIGINT = w.id\n",
    "  JOIN planet_osm_nodes AS n ON n.id = ANY(w.nodes)\n",
    ")\n",
    "-- The pure way-nodes part (simple polygons) takes 12 s.\n",
    "SELECT\n",
    "    l.area_id AS landuse_id,\n",
    "    l.feature AS feature,\n",
    "    n.id AS node_id,\n",
    "    ST_SetSRID(ST_MakePoint(convert_coord(n.lon), convert_coord(n.lat)), 4326) AS geom,\n",
    "    n.created AS last_modified,\n",
    "    n.version AS version\n",
    "  FROM planet_osm_ways AS w\n",
    "  -- Instead of joining with the land table, we could write a WHERE condition using the same implementation as the Lua code.\n",
    "  JOIN land AS l ON l.area_id = w.id\n",
    "  JOIN planet_osm_nodes AS n ON n.id = ANY(w.nodes)\n",
    "UNION ALL\n",
    "-- The relations-way-nodes part (multipolygons) takes 3 s.\n",
    "SELECT * FROM landuse_relation_nodes;\n",
    "\"\"\"\n",
    "send_sql(conn, sql) # Baden-Württemberg: 49 seconds, Germany: 382 seconds, Europe: 3532 s\n",
    "send_sql(conn, \"CREATE INDEX landuse_nodes_geom_idx ON landuse_nodes USING gist(geom);\") # Baden-Württemberg: 196 seconds, Germany: 1409 seconds, Europe: 15329 s\n",
    "send_sql(conn, \"CREATE INDEX landuse_nodes_area_id_idx ON landuse_nodes USING btree(landuse_id);\") # Baden-Württemberg: 7 seconds, Germany: 45 seconds, Europe: 446s"
   ]
  },
  {
   "cell_type": "markdown",
   "id": "91",
   "metadata": {},
   "source": [
    "Find median age of landuse per polygon:"
   ]
  },
  {
   "cell_type": "code",
   "execution_count": 35,
   "id": "92",
   "metadata": {},
   "outputs": [
    {
     "name": "stdout",
     "output_type": "stream",
     "text": [
      "Executed SQL command in 0.184 seconds.\n",
      "Failed to execute SQL statement:\n",
      "b\"CREATE TABLE landuse_polygon_age AS\\nSELECT\\n    n.landuse_id,\\n    n.feature,\\n    --l.tags->'source' AS source,\\n    --MIN(n.last_modified) AS oldest_timestamp,\\n    --MAX(n.last_modified) AS newest_timestamp,\\n    to_timestamp((PERCENTILE_CONT(0.5) WITHIN GROUP(ORDER BY EXTRACT(EPOCH FROM n.last_modified)))::BIGINT) AS median_timestamp,\\n    COUNT(1) AS node_count,\\n    l.geom AS geom\\n  FROM landuse_nodes AS n\\n  JOIN land AS l\\n    ON n.landuse_id = l.area_id\\n  GROUP BY n.landuse_id, n.feature, l.geom;\\n  --GROUP BY n.landuse_id, n.feature, l.tags->'source', l.geom;\\n\"\n",
      "Reason: could not write to file \"base/pgsql_tmp/pgsql_tmp2805419.1513\": No space left on device\n",
      "\n",
      "Executed SQL command in 16411.715 seconds.\n"
     ]
    }
   ],
   "source": [
    "send_sql(conn, \"CREATE INDEX IF NOT EXISTS landuse_nodes_landuse_id_node_id_mod10 ON landuse_nodes using btree(landuse_id) where node_id % 10 = 0;\")\n",
    "sql = \"\"\"DROP TABLE IF EXISTS landuse_polygon_age;\n",
    "CREATE TABLE landuse_polygon_age AS\n",
    "SELECT\n",
    "    n.landuse_id,\n",
    "    --n.feature,\n",
    "    --l.tags->'source' AS source,\n",
    "    --MIN(n.last_modified) AS oldest_timestamp,\n",
    "    --MAX(n.last_modified) AS newest_timestamp,\n",
    "    to_timestamp((PERCENTILE_CONT(0.5) WITHIN GROUP(ORDER BY EXTRACT(EPOCH FROM n.last_modified)))::BIGINT) AS median_timestamp,\n",
    "    --l.geom AS geom,\n",
    "    COUNT(1) AS node_count\n",
    "  FROM landuse_nodes AS n\n",
    "  JOIN land AS l\n",
    "    ON n.landuse_id = l.area_id\n",
    "      -- hack to reduce size because we ran into '\"base/pgsql_tmp/pgsql_tmp2805419.1513\": No space left on device'\n",
    "      AND n.node_id % 10 = 0\n",
    "  GROUP BY n.landuse_id;\n",
    "  --GROUP BY n.landuse_id, n.feature, l.tags->'source', l.geom;\n",
    "\"\"\"\n",
    "send_sql(conn, sql) # Baden-Württemberg: 86 seconds (105 seconds with source), Germany: 987 seconds, Europe (simplified): "
   ]
  },
  {
   "cell_type": "markdown",
   "id": "93",
   "metadata": {},
   "source": [
    "Get node age per municipality:"
   ]
  },
  {
   "cell_type": "code",
   "execution_count": 36,
   "id": "94",
   "metadata": {},
   "outputs": [
    {
     "name": "stdout",
     "output_type": "stream",
     "text": [
      "Executed SQL command in 0.001 seconds.\n",
      "Executed SQL command in 3311.761 seconds, affected 71885 rows.\n"
     ]
    }
   ],
   "source": [
    "send_sql(conn, \"DROP TABLE IF EXISTS landuse_node_age_per_cell;\")\n",
    "sql = \"\"\"CREATE TABLE landuse_node_age_per_cell AS\n",
    "SELECT\n",
    "    --MIN(n.last_modified) AS oldest_timestamp,\n",
    "    --MAX(n.last_modified) AS newest_timestamp,\n",
    "    to_timestamp((PERCENTILE_CONT(0.5) WITHIN GROUP(ORDER BY EXTRACT(EPOCH FROM n.last_modified)))::BIGINT) AS median_timestamp,\n",
    "    COUNT(1) AS node_count,\n",
    "    c.id AS cell_id,\n",
    "    ST_Area(c.geom) AS area\n",
    "  FROM grid_cells AS c\n",
    "  JOIN landuse_nodes AS n\n",
    "    ON c.geom && n.geom AND ST_Intersects(c.geom, n.geom)\n",
    "  GROUP BY c.id, c.geom;\n",
    "\"\"\"\n",
    "send_sql(conn, sql) # Baden-Württemberg: 35 seconds, Germany: 3962 seconds"
   ]
  },
  {
   "cell_type": "markdown",
   "id": "95",
   "metadata": {},
   "source": [
    "Create a view which converts the dates into Unix timestamps (for MapLibre):"
   ]
  },
  {
   "cell_type": "code",
   "execution_count": 37,
   "id": "96",
   "metadata": {},
   "outputs": [
    {
     "name": "stdout",
     "output_type": "stream",
     "text": [
      "Failed to execute SQL statement:\n",
      "b'DROP TABLE IF EXISTS landuse_node_age_per_cell_unix;\\n-- A btree(cell_id) index on landuse_node_age_per_cell does not make the query faster.\\nCREATE TABLE landuse_node_age_per_cell_unix AS\\nSELECT\\n    EXTRACT(EPOCH FROM oldest_timestamp)::BIGINT AS oldest_timestamp,\\n    EXTRACT(EPOCH FROM newest_timestamp)::BIGINT AS newest_timestamp,\\n    EXTRACT(EPOCH FROM median_timestamp)::BIGINT AS median_timestamp,\\n    node_count,\\n    n.cell_id,\\n    n.area,\\n    c.geom\\n  FROM landuse_node_age_per_cell AS n\\n  JOIN grid_cells AS c ON c.id = n.cell_id;\\n'\n",
      "Reason: column \"oldest_timestamp\" does not exist\n",
      "LINE 5:     EXTRACT(EPOCH FROM oldest_timestamp)::BIGINT AS oldest_t...\n",
      "                               ^\n",
      "\n",
      "Executed SQL command in 0.001 seconds.\n"
     ]
    }
   ],
   "source": [
    "sql = \"\"\"DROP TABLE IF EXISTS landuse_node_age_per_cell_unix;\n",
    "-- A btree(cell_id) index on landuse_node_age_per_cell does not make the query faster.\n",
    "CREATE TABLE landuse_node_age_per_cell_unix AS\n",
    "SELECT\n",
    "    --EXTRACT(EPOCH FROM oldest_timestamp)::BIGINT AS oldest_timestamp,\n",
    "    --EXTRACT(EPOCH FROM newest_timestamp)::BIGINT AS newest_timestamp,\n",
    "    EXTRACT(EPOCH FROM median_timestamp)::BIGINT AS median_timestamp,\n",
    "    node_count,\n",
    "    n.cell_id,\n",
    "    n.area,\n",
    "    c.geom\n",
    "  FROM landuse_node_age_per_cell AS n\n",
    "  JOIN grid_cells AS c ON c.id = n.cell_id;\n",
    "\"\"\"\n",
    "send_sql(conn, sql) # BW: 1 second"
   ]
  },
  {
   "cell_type": "markdown",
   "id": "97",
   "metadata": {},
   "source": [
    "Histogram of the age of nodes of polygons:"
   ]
  },
  {
   "cell_type": "code",
   "execution_count": 38,
   "id": "98",
   "metadata": {},
   "outputs": [
    {
     "name": "stdout",
     "output_type": "stream",
     "text": [
      "Executed SQL command in 16.293 seconds, affected 33470493 rows.\n",
      "converting data\n",
      "plotting\n"
     ]
    },
    {
     "data": {
      "image/png": "[encoded data removed]",
      "text/plain": [
       "<Figure size 850x480 with 1 Axes>"
      ]
     },
     "metadata": {},
     "output_type": "display_data"
    }
   ],
   "source": [
    "result = send_sql(conn, \"SELECT EXTRACT(EPOCH FROM median_timestamp)::BIGINT AS median_timestamp FROM landuse_polygon_age;\", return_result=True)\n",
    "fig, ax = plt.subplots(figsize=figsize_in(850, 480))\n",
    "print('converting data')\n",
    "import datetime\n",
    "dist = [datetime.datetime.fromtimestamp(row[0]) for row in result]\n",
    "print('plotting')\n",
    "ax.hist(dist, bins=120)\n",
    "#ax.set_xlabel('letzte Änderung')\n",
    "ax.set_ylabel('number of polygons')\n",
    "ax.set_xlim(min(dist), max(dist))\n",
    "#fig.subplots_adjust(bottom=0.20)\n",
    "#ax.set_title('Median der letzten Änderung an den Nodes von Landuse-Polygonen')\n",
    "plt.show()\n",
    "fig.savefig('talk/plots/polygon_median_age_histogram.svg', facecolor='white')"
   ]
  },
  {
   "cell_type": "markdown",
   "id": "99",
   "metadata": {},
   "source": [
    "The same for cells and their median modification date:"
   ]
  },
  {
   "cell_type": "code",
   "execution_count": 39,
   "id": "100",
   "metadata": {},
   "outputs": [
    {
     "name": "stdout",
     "output_type": "stream",
     "text": [
      "Executed SQL command in 1.019 seconds, affected 71885 rows.\n",
      "converting data\n",
      "plotting\n"
     ]
    },
    {
     "data": {
      "image/png": "[encoded data removed]",
      "text/plain": [
       "<Figure size 850x480 with 1 Axes>"
      ]
     },
     "metadata": {},
     "output_type": "display_data"
    }
   ],
   "source": [
    "result = send_sql(conn, \"SELECT median_timestamp AS median_timestamp FROM landuse_node_age_per_cell_unix;\", return_result=True)\n",
    "plt.rc('font', size=18)\n",
    "fig, ax = plt.subplots(figsize=figsize_in(850, 480))\n",
    "print('converting data')\n",
    "import datetime\n",
    "dist = [datetime.datetime.fromtimestamp(row[0]) for row in result]\n",
    "print('plotting')\n",
    "ax.hist(dist, bins=120)\n",
    "#ax.set_xlabel('letzte Änderung der Nodes')\n",
    "ax.set_ylabel('number of cells')\n",
    "#fig.subplots_adjust(bottom=0.20)\n",
    "ax.set_xlim(min(dist), max(dist))\n",
    "#ax.set_title('Median der letzten Änderung an den Landuse-Nodes je Gemeinde')\n",
    "plt.show()\n",
    "fig.savefig('talk/plots/node_median_age_histogram_municipality.svg', facecolor='white')"
   ]
  },
  {
   "cell_type": "code",
   "execution_count": null,
   "id": "101",
   "metadata": {},
   "outputs": [],
   "source": []
  }
 ],
 "metadata": {
  "kernelspec": {
   "display_name": "Python 3 (ipykernel)",
   "language": "python",
   "name": "python3"
  },
  "language_info": {
   "codemirror_mode": {
    "name": "ipython",
    "version": 3
   },
   "file_extension": ".py",
   "mimetype": "text/x-python",
   "name": "python",
   "nbconvert_exporter": "python",
   "pygments_lexer": "ipython3",
   "version": "3.8.10"
  }
 },
 "nbformat": 4,
 "nbformat_minor": 5
}
